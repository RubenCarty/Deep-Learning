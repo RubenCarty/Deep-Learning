{
  "cells": [
    {
      "cell_type": "markdown",
      "metadata": {
        "id": "view-in-github",
        "colab_type": "text"
      },
      "source": [
        "<a href=\"https://colab.research.google.com/github/RubenCarty/Deep-Learning/blob/main/Lab_01_DL_algebra_lineal.ipynb\" target=\"_parent\"><img src=\"https://colab.research.google.com/assets/colab-badge.svg\" alt=\"Open In Colab\"/></a>"
      ]
    },
    {
      "cell_type": "markdown",
      "metadata": {
        "id": "vWVHzbK-ZVQ0"
      },
      "source": [
        "# Álgebra Lineal"
      ]
    },
    {
      "cell_type": "markdown",
      "source": [
        "\n",
        "### [Msc Ruben Quispe](https://www.linkedin.com/in/ruben-quispe-l/)"
      ],
      "metadata": {
        "id": "FNkljDl5Z3p-"
      }
    },
    {
      "cell_type": "markdown",
      "metadata": {
        "id": "KTqY8YQEZVQ0"
      },
      "source": [
        "El `álgebra lineal` es una rama de las matemáticas utilizada en muchos campos de la ciencia y la ingeniería, incluyendo la `Inteligencia Artificial`. Un buen entendimiento de álgebra lineal es esencial para trabajar con la mayoría de algoritmos de `Machine Learning`, y sobretodo algoritmos de `Deep Learning`. En este post vamos a ver los conceptos de álgebra lineal más importante en el desarrollo de algoritmos de IA, omitiendo muchos conceptos interesantes pero no esenciales para nuestras aplicaciones."
      ]
    },
    {
      "cell_type": "markdown",
      "metadata": {
        "id": "HlUpIsRDZVQ1"
      },
      "source": [
        "## Objetos matemáticos"
      ]
    },
    {
      "cell_type": "markdown",
      "metadata": {
        "id": "rNHJ76EKZVQ1"
      },
      "source": [
        "En nuestro viaje por el apasionante mundo del desarrollo de algoritmos de IA nos encontraremos de manera recurrente con los siguientes objetos matemáticos."
      ]
    },
    {
      "cell_type": "markdown",
      "metadata": {
        "id": "0cgjqH-VZVQ1"
      },
      "source": [
        "### Escalares"
      ]
    },
    {
      "cell_type": "markdown",
      "metadata": {
        "id": "eMizfY5BZVQ1"
      },
      "source": [
        "Un `escalar` es simplemente un número único, a diferencia de la mayoría del resto de objetos matemáticos estudiados en álgebra lineal que normalmente son colecciones de múltiples números. Suelen denotarse mediante letras en minúscula, por ejemplo cuando decimos que una red neuronal tiene un número $n$ de neuronas estamos usando un valor escalar."
      ]
    },
    {
      "cell_type": "code",
      "execution_count": 1,
      "metadata": {
        "ExecuteTime": {
          "end_time": "2020-06-14T16:05:48.890188Z",
          "start_time": "2020-06-14T16:05:48.876664Z"
        },
        "id": "yxj-LtJGZVQ1",
        "outputId": "f70bce10-f94f-4ebd-ed34-6ee6a91b409c",
        "colab": {
          "base_uri": "https://localhost:8080/"
        }
      },
      "outputs": [
        {
          "output_type": "execute_result",
          "data": {
            "text/plain": [
              "1"
            ]
          },
          "metadata": {},
          "execution_count": 1
        }
      ],
      "source": [
        "# un valor escalar\n",
        "x = 1\n",
        "x"
      ]
    },
    {
      "cell_type": "markdown",
      "metadata": {
        "id": "PYRZWsdLZVQ2"
      },
      "source": [
        "### Vectores"
      ]
    },
    {
      "cell_type": "markdown",
      "metadata": {
        "id": "oWIyaaUDZVQ2"
      },
      "source": [
        "Un `vector` es una colección de números dispuestos en una secuencia. Podemos identificar cada elemento individual mediante su posición en la secuencia. Suelen denotarse mediante letras en minúscula y en negrita, por ejemplo $\\mathbf{x}$, mientras que cada elemento se denota con la misma letra que el vector, pero sin negrita y con un subíndice indicando su posición en el vector, por ejemplo $x_1$ es el primer elemento en el vector $\\mathbf{x}$.\n",
        "\n",
        "\\begin{equation}\n",
        "    \\mathbf{x} =\n",
        "    \\begin{bmatrix}x_1 \\\\ x_2 \\\\ ... \\\\ x_n\\end{bmatrix}\n",
        "\\end{equation}"
      ]
    },
    {
      "cell_type": "code",
      "execution_count": 2,
      "metadata": {
        "ExecuteTime": {
          "end_time": "2020-06-14T16:06:02.034104Z",
          "start_time": "2020-06-14T16:06:02.015082Z"
        },
        "id": "dKJVuAXwZVQ2",
        "outputId": "607da395-3efb-493c-da4a-d12ab2914a0d",
        "colab": {
          "base_uri": "https://localhost:8080/"
        }
      },
      "outputs": [
        {
          "output_type": "execute_result",
          "data": {
            "text/plain": [
              "array([1, 2, 3, 4])"
            ]
          },
          "metadata": {},
          "execution_count": 2
        }
      ],
      "source": [
        "# un vector\n",
        "\n",
        "import numpy as np\n",
        "\n",
        "x = np.array([1, 2, 3, 4])\n",
        "x"
      ]
    },
    {
      "cell_type": "code",
      "execution_count": 6,
      "metadata": {
        "ExecuteTime": {
          "end_time": "2020-06-14T16:06:09.057462Z",
          "start_time": "2020-06-14T16:06:09.052401Z"
        },
        "id": "Z054nDdyZVQ2",
        "outputId": "3edfa6b6-61f5-4d00-9a91-9588f052919f",
        "colab": {
          "base_uri": "https://localhost:8080/"
        }
      },
      "outputs": [
        {
          "output_type": "execute_result",
          "data": {
            "text/plain": [
              "np.int64(3)"
            ]
          },
          "metadata": {},
          "execution_count": 6
        }
      ],
      "source": [
        "# primer valor\n",
        "\n",
        "x[2]"
      ]
    },
    {
      "cell_type": "markdown",
      "metadata": {
        "id": "I7rBQwoGZVQ2"
      },
      "source": [
        "> ⚠️ Recuerda que en Python los índices de las diferentes estructuras de datos empiezan por el valor 0."
      ]
    },
    {
      "cell_type": "markdown",
      "metadata": {
        "id": "RZ1Okxk6ZVQ3"
      },
      "source": [
        "Utilizaremos vectores para representar puntos en el espacio, secuencias de valores en series temporales, frases en las que cada elemento corresponde a una palabra, etc."
      ]
    },
    {
      "cell_type": "markdown",
      "metadata": {
        "id": "YlG22knEZVQ3"
      },
      "source": [
        "### Matrices"
      ]
    },
    {
      "cell_type": "markdown",
      "metadata": {
        "id": "ri019HnxZVQ3"
      },
      "source": [
        "Una `matriz` es un vector bidimensional, en el que cada elemento se identifica mediante dos índices en vez de uno. Suelen denotarse mediante letras en mayúscula y en negrita, por ejemplo $\\mathbf{A}$. Como en el caso de los vectores, cada elemento se identifica con la misma letra que la matriz, pero sin negrita y con dos subíndices indicando su posición en la matriz. Por ejemplo el valor $A_{1,1}$ es el elemento en la primera fila y primera columna.\n",
        "\n",
        "\\begin{equation}\n",
        "    \\mathbf{A} =\n",
        "    \\begin{bmatrix}A_{1,1} && A_{1,2} \\\\  A_{2,1} && A_{2,2} \\end{bmatrix}\n",
        "\\end{equation}"
      ]
    },
    {
      "cell_type": "code",
      "execution_count": 7,
      "metadata": {
        "ExecuteTime": {
          "end_time": "2020-06-14T16:15:26.086286Z",
          "start_time": "2020-06-14T16:15:26.074286Z"
        },
        "id": "z1_gUViVZVQ3",
        "outputId": "d9ec3d3f-f524-4890-dae8-70c2cdadea1d",
        "colab": {
          "base_uri": "https://localhost:8080/"
        }
      },
      "outputs": [
        {
          "output_type": "execute_result",
          "data": {
            "text/plain": [
              "array([[1, 2],\n",
              "       [3, 4]])"
            ]
          },
          "metadata": {},
          "execution_count": 7
        }
      ],
      "source": [
        "# una matriz\n",
        "\n",
        "A = np.array([[1, 2], [3, 4]])\n",
        "A"
      ]
    },
    {
      "cell_type": "code",
      "execution_count": 8,
      "metadata": {
        "ExecuteTime": {
          "end_time": "2020-06-14T16:15:35.881262Z",
          "start_time": "2020-06-14T16:15:35.875260Z"
        },
        "id": "7x-3UpV6ZVQ3",
        "outputId": "a344a7dd-f141-4609-f5d3-2133fe2de59b",
        "colab": {
          "base_uri": "https://localhost:8080/"
        }
      },
      "outputs": [
        {
          "output_type": "execute_result",
          "data": {
            "text/plain": [
              "np.int64(1)"
            ]
          },
          "metadata": {},
          "execution_count": 8
        }
      ],
      "source": [
        "# primer valor\n",
        "\n",
        "A[0,0]"
      ]
    },
    {
      "cell_type": "markdown",
      "metadata": {
        "id": "1IH_boSWZVQ3"
      },
      "source": [
        "Utilizaremos matrices para representar imágenes en blanco y negro, los parámetros de una capa en una red neuronal, etc. En la siguiente imágen puedes ver un ejemplo de una imágen con un número 5, como puedes ver se trata de una matriz en la que cada elemento indica la intensidad de color para cada píxel."
      ]
    },
    {
      "cell_type": "markdown",
      "metadata": {
        "id": "BWlNKa8rZVQ3"
      },
      "source": [
        "![](https://koenig-media.raywenderlich.com/uploads/2018/01/firstXsample.png)"
      ]
    },
    {
      "cell_type": "markdown",
      "metadata": {
        "id": "ncTk7y6VZVQ3"
      },
      "source": [
        "### Tensores"
      ]
    },
    {
      "cell_type": "markdown",
      "metadata": {
        "id": "LMJ2i-THZVQ3"
      },
      "source": [
        "Un `tensor` es una secuencia de valores dispuesta en una malla regular con un número arbitrario de dimensiones. Podemos ver un `escalar` como un tensor con 0 dimensiones, un `vector` como un tensor de 1 dimensión y una `matriz` como un tensor de 2 dimensiones. Así pues, hablamos de tensores en general como la estructura de datos que engloba las estructuras vistas anteriormente y cualquier otra con mayor número de dimensiones."
      ]
    },
    {
      "cell_type": "code",
      "execution_count": 9,
      "metadata": {
        "ExecuteTime": {
          "end_time": "2020-06-14T16:23:17.688473Z",
          "start_time": "2020-06-14T16:23:17.677446Z"
        },
        "id": "NcOaRZvJZVQ3",
        "outputId": "3159eb47-fc44-4824-b26f-e57453ffb943",
        "colab": {
          "base_uri": "https://localhost:8080/"
        }
      },
      "outputs": [
        {
          "output_type": "execute_result",
          "data": {
            "text/plain": [
              "array([[[1, 2],\n",
              "        [3, 4]],\n",
              "\n",
              "       [[1, 2],\n",
              "        [3, 4]]])"
            ]
          },
          "metadata": {},
          "execution_count": 9
        }
      ],
      "source": [
        "# un tensor de 3 dimensiones\n",
        "# puedes interpretarlo como dos matrices\n",
        "\n",
        "A = np.array([[[1, 2], [3, 4]],[[1, 2], [3, 4]]])\n",
        "A"
      ]
    },
    {
      "cell_type": "markdown",
      "metadata": {
        "id": "aQgJdHUYZVQ3"
      },
      "source": [
        "Usaremos tensores de tres dimensiones para representar imágenes en color (canales RGB), tensores de cuatro dimensiones para representar vídeos (secuencia de imágenes en color), etc."
      ]
    },
    {
      "cell_type": "markdown",
      "metadata": {
        "id": "rhv43eQOZVQ3"
      },
      "source": [
        "## Operaciones"
      ]
    },
    {
      "cell_type": "markdown",
      "metadata": {
        "id": "QaaFAH1tZVQ3"
      },
      "source": [
        "Una operación importante cuando trabajamos con matrices es la `traspuesta`. Consiste en intercambiar las filas por las columnas, y suele denotarse con el superíndice $(\\cdot)^T$, por ejemplo $\\mathbf{A}^T$ es la matriz traspuesta de $\\mathbf{A}$."
      ]
    },
    {
      "cell_type": "code",
      "execution_count": 10,
      "metadata": {
        "ExecuteTime": {
          "end_time": "2020-06-14T16:28:17.184214Z",
          "start_time": "2020-06-14T16:28:17.165192Z"
        },
        "id": "R4YP5HKmZVQ3",
        "outputId": "bbdf778b-813d-465f-cf29-14ee1d64b0a4",
        "colab": {
          "base_uri": "https://localhost:8080/"
        }
      },
      "outputs": [
        {
          "output_type": "execute_result",
          "data": {
            "text/plain": [
              "array([[0, 1, 2, 3, 4],\n",
              "       [5, 6, 7, 8, 9]])"
            ]
          },
          "metadata": {},
          "execution_count": 10
        }
      ],
      "source": [
        "A = np.arange(10).reshape(2,5)\n",
        "A"
      ]
    },
    {
      "cell_type": "code",
      "execution_count": 11,
      "metadata": {
        "ExecuteTime": {
          "end_time": "2020-06-14T16:28:22.643417Z",
          "start_time": "2020-06-14T16:28:22.636417Z"
        },
        "id": "nQzJZnVWZVQ3",
        "outputId": "91a8e23d-f8ee-4a0f-bd78-6719b21bb14c",
        "colab": {
          "base_uri": "https://localhost:8080/"
        }
      },
      "outputs": [
        {
          "output_type": "execute_result",
          "data": {
            "text/plain": [
              "array([[0, 5],\n",
              "       [1, 6],\n",
              "       [2, 7],\n",
              "       [3, 8],\n",
              "       [4, 9]])"
            ]
          },
          "metadata": {},
          "execution_count": 11
        }
      ],
      "source": [
        "A.T"
      ]
    },
    {
      "cell_type": "markdown",
      "metadata": {
        "id": "43851j7eZVQ3"
      },
      "source": [
        "Un vector es una matriz de una sola columna, por lo que su transpuesta es simplemente una matriz con una fila con los mismos valores. En cuanto a un valor escalar, él mismo es su traspuesta."
      ]
    },
    {
      "cell_type": "markdown",
      "metadata": {
        "id": "n5D7QCFpZVQ3"
      },
      "source": [
        "Podemos sumar matrices entre ellas siempre que tengan la misma forma, añadiendo cada elemento de manera independiente."
      ]
    },
    {
      "cell_type": "code",
      "execution_count": 12,
      "metadata": {
        "ExecuteTime": {
          "end_time": "2020-06-14T16:31:46.948160Z",
          "start_time": "2020-06-14T16:31:46.942108Z"
        },
        "id": "yxyRjjqAZVQ3",
        "outputId": "8496417e-d40b-4ad2-f1f1-fd7de1ed880f",
        "colab": {
          "base_uri": "https://localhost:8080/"
        }
      },
      "outputs": [
        {
          "output_type": "execute_result",
          "data": {
            "text/plain": [
              "(array([[-1.66153935, -0.26299399,  0.37700633],\n",
              "        [ 0.22637964,  0.66573048, -0.26935419],\n",
              "        [ 0.03152133,  0.62078744,  0.87789477]]),\n",
              " array([[ 0.98833764,  0.28796258,  0.47074844],\n",
              "        [ 1.89518644,  1.78791578,  1.32928007],\n",
              "        [-0.24662901, -0.39582462,  0.41999123]]))"
            ]
          },
          "metadata": {},
          "execution_count": 12
        }
      ],
      "source": [
        "A = np.random.randn(3,3)\n",
        "B = np.random.randn(3,3)\n",
        "\n",
        "A, B"
      ]
    },
    {
      "cell_type": "code",
      "execution_count": 13,
      "metadata": {
        "ExecuteTime": {
          "end_time": "2020-06-14T16:31:50.046481Z",
          "start_time": "2020-06-14T16:31:50.036935Z"
        },
        "id": "BQRABHXFZVQ4",
        "outputId": "04d7862f-4b8b-444c-f091-2e2a68d45db4",
        "colab": {
          "base_uri": "https://localhost:8080/"
        }
      },
      "outputs": [
        {
          "output_type": "execute_result",
          "data": {
            "text/plain": [
              "array([[-0.67320171,  0.0249686 ,  0.84775477],\n",
              "       [ 2.12156608,  2.45364626,  1.05992588],\n",
              "       [-0.21510768,  0.22496282,  1.297886  ]])"
            ]
          },
          "metadata": {},
          "execution_count": 13
        }
      ],
      "source": [
        "A + B"
      ]
    },
    {
      "cell_type": "markdown",
      "metadata": {
        "id": "q7bzRqqoZVQ4"
      },
      "source": [
        "> ⚡ Como vimos en un [post](https://sensioai.com/blog/008_numpy_aop) anterior podemos saltarnos esta restricción al trabajar con NumPy gracias al `broadcasting`."
      ]
    },
    {
      "cell_type": "markdown",
      "metadata": {
        "id": "JRHtCcvPZVQ4"
      },
      "source": [
        "### Multiplicando matrices y vectores"
      ]
    },
    {
      "cell_type": "markdown",
      "metadata": {
        "id": "DlFlvGa5ZVQ4"
      },
      "source": [
        "Una de las operaciones más importanes en álgebra lineal es la multiplicación de matrices. Para poder multiplicar dos matrices, $\\mathbf{C} = \\mathbf{A} \\mathbf{B}$, necesitamos que $\\mathbf{A}$ tenga el mismo número de columnas que filas tiene $\\mathbf{B}$. El resultado, $\\mathbf{C}$, será una matriz con el mismo número de filas que $\\mathbf{A}$ y el mismo número de columnas que $\\mathbf{B}$."
      ]
    },
    {
      "cell_type": "code",
      "execution_count": 14,
      "metadata": {
        "ExecuteTime": {
          "end_time": "2020-06-14T17:35:17.653113Z",
          "start_time": "2020-06-14T17:35:17.637113Z"
        },
        "id": "ttmeMcCyZVQ4",
        "outputId": "a5be58d3-333c-4bf4-ef8a-3df725b8b7df",
        "colab": {
          "base_uri": "https://localhost:8080/"
        }
      },
      "outputs": [
        {
          "output_type": "execute_result",
          "data": {
            "text/plain": [
              "(array([[1, 2, 1],\n",
              "        [0, 1, 0],\n",
              "        [2, 3, 4]]),\n",
              " array([[2, 5],\n",
              "        [6, 7],\n",
              "        [1, 8]]))"
            ]
          },
          "metadata": {},
          "execution_count": 14
        }
      ],
      "source": [
        "A = np.array([[1,2,1],[0,1,0],[2,3,4]])\n",
        "B = np.array([[2,5],[6,7],[1,8]])\n",
        "\n",
        "A, B"
      ]
    },
    {
      "cell_type": "code",
      "execution_count": 15,
      "metadata": {
        "ExecuteTime": {
          "end_time": "2020-06-14T17:35:17.793394Z",
          "start_time": "2020-06-14T17:35:17.774397Z"
        },
        "id": "uN36E_gFZVQ4",
        "outputId": "fc72a0b5-90ba-4cd3-84f2-3f26b4334aa9",
        "colab": {
          "base_uri": "https://localhost:8080/"
        }
      },
      "outputs": [
        {
          "output_type": "execute_result",
          "data": {
            "text/plain": [
              "array([[15, 27],\n",
              "       [ 6,  7],\n",
              "       [26, 63]])"
            ]
          },
          "metadata": {},
          "execution_count": 15
        }
      ],
      "source": [
        "C = A.dot(B)\n",
        "C"
      ]
    },
    {
      "cell_type": "code",
      "execution_count": 16,
      "metadata": {
        "ExecuteTime": {
          "end_time": "2020-06-14T17:35:35.093491Z",
          "start_time": "2020-06-14T17:35:35.074490Z"
        },
        "id": "8GbyGc0-ZVQ4",
        "outputId": "7b761f34-0734-4716-87a4-51744b5c1024",
        "colab": {
          "base_uri": "https://localhost:8080/"
        }
      },
      "outputs": [
        {
          "output_type": "execute_result",
          "data": {
            "text/plain": [
              "array([[15, 27],\n",
              "       [ 6,  7],\n",
              "       [26, 63]])"
            ]
          },
          "metadata": {},
          "execution_count": 16
        }
      ],
      "source": [
        "# notación alternativa\n",
        "\n",
        "C = A @ B\n",
        "C"
      ]
    },
    {
      "cell_type": "code",
      "execution_count": 17,
      "metadata": {
        "ExecuteTime": {
          "end_time": "2020-06-14T17:35:18.972284Z",
          "start_time": "2020-06-14T17:35:18.958286Z"
        },
        "id": "LHS6bnl5ZVQ4",
        "outputId": "fc044bd6-273e-4780-e001-e87bcc96be73",
        "colab": {
          "base_uri": "https://localhost:8080/"
        }
      },
      "outputs": [
        {
          "output_type": "execute_result",
          "data": {
            "text/plain": [
              "(3, 2)"
            ]
          },
          "metadata": {},
          "execution_count": 17
        }
      ],
      "source": [
        "C.shape"
      ]
    },
    {
      "cell_type": "markdown",
      "metadata": {
        "id": "bF1eXZvcZVQ7"
      },
      "source": [
        "Esta operación es distributiva, $\\mathbf{A}(\\mathbf{B}+\\mathbf{C}) = \\mathbf{A} \\mathbf{B} + \\mathbf{A} \\mathbf{C}$, y asociativa, $\\mathbf{A}(\\mathbf{B} \\mathbf{C}) = (\\mathbf{A} \\mathbf{B}) \\mathbf{C}$, pero no commutativa, $\\mathbf{A} \\mathbf{B} \\neq \\mathbf{B} \\mathbf{A}$. Aquí tienes una visualización de la operación.\n",
        "\n",
        "![](https://thumbs.gfycat.com/PositiveExhaustedAmericangoldfinch-size_restricted.gif)"
      ]
    },
    {
      "cell_type": "markdown",
      "metadata": {
        "id": "NV4_KDb_ZVQ7"
      },
      "source": [
        "Ten en cuenta que esta operación no es el resultado de multiplicar cada elemento de las matrices por separado. Este tipo de multiplicación se conoce como `Hardamard product` o `element-wise product` en inglés. En este caso ambas matrices deberán tener la misma forma."
      ]
    },
    {
      "cell_type": "code",
      "execution_count": 18,
      "metadata": {
        "ExecuteTime": {
          "end_time": "2020-06-14T16:43:03.925568Z",
          "start_time": "2020-06-14T16:43:03.910538Z"
        },
        "id": "Mus-RoT4ZVQ7",
        "outputId": "c7f3f5e1-b4db-4fa7-a82a-040558fac315",
        "colab": {
          "base_uri": "https://localhost:8080/"
        }
      },
      "outputs": [
        {
          "output_type": "execute_result",
          "data": {
            "text/plain": [
              "(array([[ 0.1000962 ,  0.22004246],\n",
              "        [-1.44719377,  2.26801227]]),\n",
              " array([[ 0.42957525, -0.13412003],\n",
              "        [ 0.74432081, -0.4888588 ]]))"
            ]
          },
          "metadata": {},
          "execution_count": 18
        }
      ],
      "source": [
        "A = np.random.randn(2,2)\n",
        "B = np.random.randn(2,2)\n",
        "\n",
        "A, B"
      ]
    },
    {
      "cell_type": "code",
      "execution_count": 19,
      "metadata": {
        "ExecuteTime": {
          "end_time": "2020-06-14T16:43:04.380413Z",
          "start_time": "2020-06-14T16:43:04.366415Z"
        },
        "id": "tB1fn05KZVQ7",
        "outputId": "eaa38a33-a6c5-4b62-90e1-edfc9aff8c2b",
        "colab": {
          "base_uri": "https://localhost:8080/"
        }
      },
      "outputs": [
        {
          "output_type": "execute_result",
          "data": {
            "text/plain": [
              "array([[ 0.04299885, -0.0295121 ],\n",
              "       [-1.07717643, -1.10873776]])"
            ]
          },
          "metadata": {},
          "execution_count": 19
        }
      ],
      "source": [
        "# multiplicamos cada elemento de manera independiente\n",
        "\n",
        "A*B"
      ]
    },
    {
      "cell_type": "markdown",
      "metadata": {
        "id": "uAF62upJZVQ7"
      },
      "source": [
        "## Identidad y matriz inversa"
      ]
    },
    {
      "cell_type": "markdown",
      "metadata": {
        "id": "Uy25RqbCZVQ7"
      },
      "source": [
        "La matriz `identidad` es una matriz con $1$ en todos los valores de su diagonal y $0$ en el resto de valores."
      ]
    },
    {
      "cell_type": "code",
      "execution_count": 20,
      "metadata": {
        "ExecuteTime": {
          "end_time": "2020-06-14T16:49:23.912570Z",
          "start_time": "2020-06-14T16:49:23.894547Z"
        },
        "id": "cjjEATqWZVQ7",
        "outputId": "a7056280-742f-45a2-f647-72b3acb2adf9",
        "colab": {
          "base_uri": "https://localhost:8080/"
        }
      },
      "outputs": [
        {
          "output_type": "execute_result",
          "data": {
            "text/plain": [
              "array([[1., 0., 0.],\n",
              "       [0., 1., 0.],\n",
              "       [0., 0., 1.]])"
            ]
          },
          "metadata": {},
          "execution_count": 20
        }
      ],
      "source": [
        "# matriz identidad\n",
        "\n",
        "I = np.eye(3)\n",
        "I"
      ]
    },
    {
      "cell_type": "markdown",
      "metadata": {
        "id": "qDjEjUsNZVQ7"
      },
      "source": [
        "Esta matriz tiene la propiedad de no alterar ningún vector por el que se multiplique, y nos permite definir la matriz `inversa` como aquella matriz que cumple la condición $\\mathbf{A}^{-1} \\mathbf{A} = \\mathbf{I}$, donde $\\mathbf{A}^{-1}$ es la matriz inversa de $\\mathbf{A}$ y $\\mathbf{I}$ es la matriz identidad. Esta matriz inversa nos permite resolver sistemas de ecuaciones lineales de la forma $\\mathbf{A} \\mathbf{x} = \\mathbf{b}$, donde $\\mathbf{A}$ y $\\mathbf{b}$ son una matriz y un vector, respectivamente, de valores conocidos y $\\mathbf{x}$ es un vector de incógnitas. La solución a este sistema es $\\mathbf{x} = \\mathbf{A}^{-1} \\mathbf{b}$. El problema con la matriz inversa es que no siempre existe y, cuando lo hace, calcularla puede requerir de un tiempo de cálculo considerable, el cual aumenta con el tamaño de $\\mathbf{A}$ requiriendo de métodos alternativos de resolución en la gran mayoría de ocasiones."
      ]
    },
    {
      "cell_type": "code",
      "execution_count": 21,
      "metadata": {
        "ExecuteTime": {
          "end_time": "2020-06-14T16:55:35.739276Z",
          "start_time": "2020-06-14T16:55:35.720244Z"
        },
        "id": "zbcaMMcUZVQ8",
        "outputId": "9d80e839-1ee2-4b12-edf5-db6368af8c5c",
        "colab": {
          "base_uri": "https://localhost:8080/"
        }
      },
      "outputs": [
        {
          "output_type": "execute_result",
          "data": {
            "text/plain": [
              "array([[ 1,  2,  3],\n",
              "       [ 5,  7, 11],\n",
              "       [21, 29, 31]])"
            ]
          },
          "metadata": {},
          "execution_count": 21
        }
      ],
      "source": [
        "import numpy.linalg as linalg\n",
        "\n",
        "A = np.array([[1,2,3],[5,7,11],[21,29,31]])\n",
        "A"
      ]
    },
    {
      "cell_type": "code",
      "execution_count": 22,
      "metadata": {
        "ExecuteTime": {
          "end_time": "2020-06-14T16:55:43.341361Z",
          "start_time": "2020-06-14T16:55:43.322927Z"
        },
        "id": "V5VLeMA1ZVQ8",
        "outputId": "5764a206-9e08-466a-b2e0-bea341c70c4a",
        "colab": {
          "base_uri": "https://localhost:8080/"
        }
      },
      "outputs": [
        {
          "output_type": "execute_result",
          "data": {
            "text/plain": [
              "array([[-2.31818182,  0.56818182,  0.02272727],\n",
              "       [ 1.72727273, -0.72727273,  0.09090909],\n",
              "       [-0.04545455,  0.29545455, -0.06818182]])"
            ]
          },
          "metadata": {},
          "execution_count": 22
        }
      ],
      "source": [
        "linalg.inv(A)"
      ]
    },
    {
      "cell_type": "markdown",
      "metadata": {
        "id": "Ycc6WBUkZVQ8"
      },
      "source": [
        "> 💡 Puedes encontrar toda la funcionalidad que ofrece NumPy para álgebra lineal en el paquete `numpy.linalg`."
      ]
    },
    {
      "cell_type": "markdown",
      "metadata": {
        "id": "vnHhnv-RZVQ8"
      },
      "source": [
        "Podemos resolver el siguiente sistema de ecuaciones lineales\n",
        "\n",
        "\\begin{equation}\n",
        "2x + 6y = 6 \\\\\n",
        "5x + 3y = -9\n",
        "\\end{equation}\n",
        "\n",
        "de esta manera"
      ]
    },
    {
      "cell_type": "code",
      "execution_count": 23,
      "metadata": {
        "ExecuteTime": {
          "end_time": "2020-06-14T16:59:59.845163Z",
          "start_time": "2020-06-14T16:59:59.826142Z"
        },
        "id": "KOs-Mh76ZVQ8",
        "outputId": "ee78df7e-d50b-4f9d-ad8f-b4e043922286",
        "colab": {
          "base_uri": "https://localhost:8080/"
        }
      },
      "outputs": [
        {
          "output_type": "execute_result",
          "data": {
            "text/plain": [
              "array([-3.,  2.])"
            ]
          },
          "metadata": {},
          "execution_count": 23
        }
      ],
      "source": [
        "A  = np.array([[2, 6], [5, 3]])\n",
        "b = np.array([6, -9])\n",
        "\n",
        "x = linalg.inv(A).dot(b)\n",
        "x"
      ]
    },
    {
      "cell_type": "code",
      "execution_count": 24,
      "metadata": {
        "ExecuteTime": {
          "end_time": "2020-06-14T17:00:00.431235Z",
          "start_time": "2020-06-14T17:00:00.415225Z"
        },
        "id": "muIA7VGzZVQ8",
        "outputId": "8d317d7e-89c8-4d7f-86f3-285c1dd67645",
        "colab": {
          "base_uri": "https://localhost:8080/"
        }
      },
      "outputs": [
        {
          "output_type": "execute_result",
          "data": {
            "text/plain": [
              "array([ True,  True])"
            ]
          },
          "metadata": {},
          "execution_count": 24
        }
      ],
      "source": [
        "# comprobar solución\n",
        "\n",
        "A.dot(x) == b"
      ]
    },
    {
      "cell_type": "markdown",
      "metadata": {
        "id": "xVxg1Pa0ZVQ8"
      },
      "source": [
        "Ya que hemos reescrito el problema como $\\mathbf{A} \\mathbf{x} = \\mathbf{b}$, donde\n",
        "\n",
        "\\begin{equation}\n",
        "    \\mathbf{A} =\n",
        "    \\begin{bmatrix}2 && 6 \\\\  5 && 3 \\end{bmatrix}     \n",
        "    \\,\n",
        "    \\mathbf{x} = \\begin{bmatrix}x \\\\ y \\end{bmatrix}\n",
        "    \\,\n",
        "    \\mathbf{b} = \\begin{bmatrix}6 \\\\ -9 \\end{bmatrix}\n",
        "\\end{equation}\n",
        "\n"
      ]
    },
    {
      "cell_type": "markdown",
      "metadata": {
        "id": "kRUDdnC3ZVQ8"
      },
      "source": [
        "Un tipo especial de matriz es la matriz `diagonal`, con elementos diferentes de $0$ en su diagonal y $0$ en el resto de elementos (similar a la matriz identidad). Otros tipos de matrices interesantes son las matrices `simétricas`, matrices cuya traspuesta es ella misma, $\\mathbf{A} = \\mathbf{A}^{T}$, y las matrices `ortogonales`, cuya inversa es igual a su traspuesta, $\\mathbf{A}^{-1} = \\mathbf{A}^{T}$, muy interesante ya que en este caso calcular la inversa es una operación muy sencilla."
      ]
    },
    {
      "cell_type": "markdown",
      "metadata": {
        "heading_collapsed": true,
        "id": "JLBIZ-bTZVQ8"
      },
      "source": [
        "## Descomposición de matrices"
      ]
    },
    {
      "cell_type": "markdown",
      "metadata": {
        "hidden": true,
        "id": "WKP15YzCZVQ8"
      },
      "source": [
        "En álgebra lineal es muy común la descomposición de matrices en constituyentes más básicos independientes de su representación y que pueden darnos cierta información interesante. La descomposición más común es la descomposición en vectores propios, en la que una matriz se descompone en un conjunto de vectores y valores propios que cumplen la siguiente propiedad\n",
        "\n",
        "\\begin{equation}\n",
        " \\mathbf{A} \\mathbf{v} = \\lambda \\mathbf{v}\n",
        "\\end{equation}\n",
        "\n",
        "donde $\\mathbf{v}$ es un vector propio y $\\lambda$ su correspondiente valor propio. Juntando todos los vectores propios en una matriz $\\mathbf{V}$ y los valores propios en una matriz diagonal, $\\mathbf{\\Lambda}$, vemos que $\\mathbf{A} = \\mathbf{V} \\mathbf{\\Lambda} \\mathbf{V}^{-1}$."
      ]
    },
    {
      "cell_type": "code",
      "execution_count": 25,
      "metadata": {
        "ExecuteTime": {
          "end_time": "2020-06-14T17:20:39.722396Z",
          "start_time": "2020-06-14T17:20:39.714770Z"
        },
        "hidden": true,
        "id": "YbFWEDS8ZVQ8",
        "outputId": "9690bf02-1abc-42cb-e008-3aa2481f5256",
        "colab": {
          "base_uri": "https://localhost:8080/"
        }
      },
      "outputs": [
        {
          "output_type": "execute_result",
          "data": {
            "text/plain": [
              "array([[ 1,  2,  3],\n",
              "       [ 5,  7, 11],\n",
              "       [21, 29, 31]])"
            ]
          },
          "metadata": {},
          "execution_count": 25
        }
      ],
      "source": [
        "A = np.array([[1,2,3],[5,7,11],[21,29,31]])\n",
        "A"
      ]
    },
    {
      "cell_type": "code",
      "execution_count": 26,
      "metadata": {
        "ExecuteTime": {
          "end_time": "2020-06-14T17:21:15.850133Z",
          "start_time": "2020-06-14T17:21:15.840129Z"
        },
        "hidden": true,
        "id": "dOcraQz9ZVQ8",
        "outputId": "f8b48735-ade3-4d25-be3e-ec8a5a6008b2",
        "colab": {
          "base_uri": "https://localhost:8080/"
        }
      },
      "outputs": [
        {
          "output_type": "execute_result",
          "data": {
            "text/plain": [
              "(array([42.26600592, -0.35798416, -2.90802176]),\n",
              " array([[-0.08381182, -0.76283526, -0.18913107],\n",
              "        [-0.3075286 ,  0.64133975, -0.6853186 ],\n",
              "        [-0.94784057, -0.08225377,  0.70325518]]))"
            ]
          },
          "metadata": {},
          "execution_count": 26
        }
      ],
      "source": [
        "L, V = linalg.eig(A)\n",
        "L, V"
      ]
    },
    {
      "cell_type": "code",
      "execution_count": 27,
      "metadata": {
        "ExecuteTime": {
          "end_time": "2020-06-14T17:21:46.422324Z",
          "start_time": "2020-06-14T17:21:46.404298Z"
        },
        "hidden": true,
        "id": "0w6jkvBOZVQ8",
        "outputId": "544c4136-aa83-4de8-e5e2-5bc22577bc5a",
        "colab": {
          "base_uri": "https://localhost:8080/"
        }
      },
      "outputs": [
        {
          "output_type": "execute_result",
          "data": {
            "text/plain": [
              "(array([-0.08381182, -0.3075286 , -0.94784057]), np.float64(42.2660059241356))"
            ]
          },
          "metadata": {},
          "execution_count": 27
        }
      ],
      "source": [
        "# primer vector/valor propio\n",
        "\n",
        "v, l = V[:,0], L[0]\n",
        "v, l"
      ]
    },
    {
      "cell_type": "markdown",
      "metadata": {
        "hidden": true,
        "id": "oxSytWurZVQ8"
      },
      "source": [
        "No todas las matrices pueden descomponerse de esta manera, pero cuando se puede esta descomposición nos da mucha información sobre la matriz útil para la derivación de propiedades interesantes para el desarrollo de algoritmos (como el signo de los valores propios)."
      ]
    },
    {
      "cell_type": "markdown",
      "metadata": {
        "heading_collapsed": true,
        "id": "krbaCnCPZVQ8"
      },
      "source": [
        "## Otras propiedades"
      ]
    },
    {
      "cell_type": "markdown",
      "metadata": {
        "hidden": true,
        "id": "uUlKl0dXZVQ8"
      },
      "source": [
        "Para terminar vamos a ver algunas otras propiedades interesantes de las matrices que pueden ser útiles. La `diagonal` de una matriz es el vector que contiene todos los elementos de la diagonal de una matriz."
      ]
    },
    {
      "cell_type": "code",
      "execution_count": 29,
      "metadata": {
        "ExecuteTime": {
          "end_time": "2020-06-14T17:30:34.992567Z",
          "start_time": "2020-06-14T17:30:34.975538Z"
        },
        "hidden": true,
        "id": "WKqKeZFbZVQ8",
        "outputId": "e8b642e6-bb87-4bc1-d1dd-c4a7588157ce",
        "colab": {
          "base_uri": "https://localhost:8080/"
        }
      },
      "outputs": [
        {
          "output_type": "execute_result",
          "data": {
            "text/plain": [
              "array([ 1,  7, 31])"
            ]
          },
          "metadata": {},
          "execution_count": 29
        }
      ],
      "source": [
        "np.diag(A)"
      ]
    },
    {
      "cell_type": "markdown",
      "metadata": {
        "hidden": true,
        "id": "jytVdxpLZVQ8"
      },
      "source": [
        "La `traza` de una matriz es la suma de los elementos de su diagonal."
      ]
    },
    {
      "cell_type": "code",
      "execution_count": 30,
      "metadata": {
        "ExecuteTime": {
          "end_time": "2020-06-14T17:32:32.592152Z",
          "start_time": "2020-06-14T17:32:32.582631Z"
        },
        "hidden": true,
        "id": "Z2GsvwEyZVQ8",
        "outputId": "dd461a9d-b0e9-4bcd-a14c-6642a55bf8f3",
        "colab": {
          "base_uri": "https://localhost:8080/"
        }
      },
      "outputs": [
        {
          "output_type": "execute_result",
          "data": {
            "text/plain": [
              "np.int64(39)"
            ]
          },
          "metadata": {},
          "execution_count": 30
        }
      ],
      "source": [
        "np.trace(A)"
      ]
    },
    {
      "cell_type": "markdown",
      "metadata": {
        "hidden": true,
        "id": "i-PEchPQZVQ8"
      },
      "source": [
        "El `determinante` de una matriz es una función que mapea matrices a valores escalares, y su valor absoluto nos da una idea de cuanto se expandirá o contraerá el espacio al multiplicar esa matriz."
      ]
    },
    {
      "cell_type": "code",
      "execution_count": 31,
      "metadata": {
        "ExecuteTime": {
          "end_time": "2020-06-14T17:34:30.879667Z",
          "start_time": "2020-06-14T17:34:30.864668Z"
        },
        "hidden": true,
        "id": "4HvQODsRZVQ8",
        "outputId": "187e20e1-0016-49b6-f877-649409e69f8d",
        "colab": {
          "base_uri": "https://localhost:8080/"
        }
      },
      "outputs": [
        {
          "output_type": "execute_result",
          "data": {
            "text/plain": [
              "np.float64(43.99999999999997)"
            ]
          },
          "metadata": {},
          "execution_count": 31
        }
      ],
      "source": [
        "linalg.det(A)"
      ]
    },
    {
      "cell_type": "markdown",
      "metadata": {
        "id": "WAg5_uL7ZVQ9"
      },
      "source": [
        "## Resumen"
      ]
    },
    {
      "cell_type": "markdown",
      "metadata": {
        "id": "t2vSPSyrZVQ9"
      },
      "source": [
        "En este post hemos visto los elementos más importantes del campo del álgebra lineal aplicados a la Inteligencia Artificial. De entre ellos, el saber trabajar con `tensores` (incluyendo `vectores` y `matrices`) y sus operaciones principales (sumas y multiplicaciones) es esencial en el desarrollo de `Redes Neuronales`. Otros algoritmos de `Machine Learning` también envuelven otras propiedades, como por ejemplo la descomposición de matrices (el algoritmo `PCA` puede derivarse directamente de la descomposición de una matriz en vectores propios). Si quieres aprender más sobre este campo, a continuación encontrarás varias referencias que pueden serte muy útiles."
      ]
    },
    {
      "cell_type": "markdown",
      "metadata": {
        "id": "SLu8QQkyZVQ9"
      },
      "source": [
        "## Referencias\n",
        "\n",
        "Libros\n",
        "\n",
        "- *The Matrix Cookbook* (Petersen y Pedersen, 2006)\n",
        "- *Deep Learning* (Goodfellow, Bengio y Courville, 2016)\n",
        "\n",
        "Cursos\n",
        "\n",
        "- [MIT, 2010](https://ocw.mit.edu/courses/mathematics/18-06-linear-algebra-spring-2010/)\n",
        "- [FastAI](https://github.com/fastai/numerical-linear-algebra)\n",
        "\n",
        "Youtube\n",
        "\n",
        "- [3Blue1Brown](https://www.youtube.com/watch?v=kjBOesZCoqc&list=PL0-GT3co4r2y2YErbmuJw2L5tW4Ew2O5B)\n",
        "\n",
        "Posts\n",
        "\n",
        "- https://explained.ai/matrix-calculus/index.html"
      ]
    }
  ],
  "metadata": {
    "kernelspec": {
      "display_name": "Python 3",
      "language": "python",
      "name": "python3"
    },
    "language_info": {
      "codemirror_mode": {
        "name": "ipython",
        "version": 3
      },
      "file_extension": ".py",
      "mimetype": "text/x-python",
      "name": "python",
      "nbconvert_exporter": "python",
      "pygments_lexer": "ipython3",
      "version": "3.7.6"
    },
    "toc": {
      "base_numbering": 1,
      "nav_menu": {},
      "number_sections": true,
      "sideBar": true,
      "skip_h1_title": false,
      "title_cell": "Table of Contents",
      "title_sidebar": "Contents",
      "toc_cell": false,
      "toc_position": {},
      "toc_section_display": true,
      "toc_window_display": false
    },
    "colab": {
      "provenance": [],
      "include_colab_link": true
    }
  },
  "nbformat": 4,
  "nbformat_minor": 0
}