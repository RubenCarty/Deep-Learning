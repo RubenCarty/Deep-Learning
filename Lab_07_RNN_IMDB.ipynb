{
  "nbformat": 4,
  "nbformat_minor": 0,
  "metadata": {
    "colab": {
      "name": "Lab_07 RNN_IMDB.ipynb",
      "provenance": [],
      "authorship_tag": "ABX9TyMUYHOCGAqdoCn+2CIcekzZ",
      "include_colab_link": true
    },
    "kernelspec": {
      "name": "python3",
      "display_name": "Python 3"
    }
  },
  "cells": [
    {
      "cell_type": "markdown",
      "metadata": {
        "id": "view-in-github",
        "colab_type": "text"
      },
      "source": [
        "<a href=\"https://colab.research.google.com/github/RubenMcCarty/Deep-Learning/blob/main/Lab_07_RNN_IMDB.ipynb\" target=\"_parent\"><img src=\"https://colab.research.google.com/assets/colab-badge.svg\" alt=\"Open In Colab\"/></a>"
      ]
    },
    {
      "cell_type": "markdown",
      "metadata": {
        "id": "aPExqj8uvJup"
      },
      "source": [
        "# **Recurrent Neural Networks**\r\n",
        "## Creado por [M.Sc. Ruben Quispe](https://machinelearningmastery.com/tutorial-to-implement-k-nearest-neighbors-in-python-from-scratch/)\r\n",
        "### Curso [Deep Learning](https://eie.pe/curso-machine-learning/)"
      ]
    },
    {
      "cell_type": "markdown",
      "metadata": {
        "id": "k5ueChwvvhIg"
      },
      "source": [
        "# **Procesamiento de datos**"
      ]
    },
    {
      "cell_type": "code",
      "metadata": {
        "colab": {
          "base_uri": "https://localhost:8080/"
        },
        "id": "MLnESLcxsZxA",
        "outputId": "ff3cc213-936d-40cc-e68a-607ecc05e214"
      },
      "source": [
        "from tensorflow.keras.datasets import imdb\r\n",
        "from tensorflow.keras.preprocessing import sequence\r\n",
        "\r\n",
        "# Utilizaremos las 10,000 palabras más usuales.\r\n",
        "max_features = 10000\r\n",
        "\r\n",
        "# Por cada crítica, consideraremos sólo las 500 primeras palabras dentro de las 10,000 más usuales.\r\n",
        "maxlen = 500\r\n",
        "batch_size = 32\r\n",
        "\r\n",
        "# Cargamos los datos como listas de enteros.\r\n",
        "print ('Loading data...')\r\n",
        "(input_train, y_train), (input_test, y_test) = imdb.load_data(num_words=max_features)\r\n",
        "print (len(input_train), 'train sequences')\r\n",
        "print (len(input_test), 'test sequences')\r\n",
        "\r\n",
        "# Convertimos nuestras listas de enteros en tensores 2D de dimensiones (número de críticas, maxlen)\r\n",
        "input_train = sequence.pad_sequences(input_train, maxlen=maxlen)\r\n",
        "input_test = sequence.pad_sequences(input_test, maxlen=maxlen)\r\n",
        "print('input_train shape: ', input_train.shape)\r\n",
        "print('input_test shape: ', input_test.shape)"
      ],
      "execution_count": 2,
      "outputs": [
        {
          "output_type": "stream",
          "text": [
            "Loading data...\n"
          ],
          "name": "stdout"
        },
        {
          "output_type": "stream",
          "text": [
            "<string>:6: VisibleDeprecationWarning: Creating an ndarray from ragged nested sequences (which is a list-or-tuple of lists-or-tuples-or ndarrays with different lengths or shapes) is deprecated. If you meant to do this, you must specify 'dtype=object' when creating the ndarray\n",
            "/usr/local/lib/python3.6/dist-packages/tensorflow/python/keras/datasets/imdb.py:159: VisibleDeprecationWarning: Creating an ndarray from ragged nested sequences (which is a list-or-tuple of lists-or-tuples-or ndarrays with different lengths or shapes) is deprecated. If you meant to do this, you must specify 'dtype=object' when creating the ndarray\n",
            "  x_train, y_train = np.array(xs[:idx]), np.array(labels[:idx])\n",
            "/usr/local/lib/python3.6/dist-packages/tensorflow/python/keras/datasets/imdb.py:160: VisibleDeprecationWarning: Creating an ndarray from ragged nested sequences (which is a list-or-tuple of lists-or-tuples-or ndarrays with different lengths or shapes) is deprecated. If you meant to do this, you must specify 'dtype=object' when creating the ndarray\n",
            "  x_test, y_test = np.array(xs[idx:]), np.array(labels[idx:])\n"
          ],
          "name": "stderr"
        },
        {
          "output_type": "stream",
          "text": [
            "25000 train sequences\n",
            "25000 test sequences\n",
            "input_train shape:  (25000, 500)\n",
            "input_test shape:  (25000, 500)\n"
          ],
          "name": "stdout"
        }
      ]
    },
    {
      "cell_type": "markdown",
      "metadata": {
        "id": "uQftD1qpvJrE"
      },
      "source": [
        "# **Definiendo la red neuronal**"
      ]
    },
    {
      "cell_type": "code",
      "metadata": {
        "colab": {
          "base_uri": "https://localhost:8080/"
        },
        "id": "JxhbGmO0uZ1O",
        "outputId": "550e7a3f-2c7c-47b4-9f46-e46a7c2cda78"
      },
      "source": [
        "from tensorflow.keras.models import Sequential\r\n",
        "from tensorflow.keras.layers import Dense\r\n",
        "from tensorflow.keras.layers import Embedding, SimpleRNN # RNN\r\n",
        "\r\n",
        "model = Sequential()\r\n",
        "model.add(Embedding(max_features, 32))\r\n",
        "model.add(SimpleRNN(32))\r\n",
        "\r\n",
        "# Agregamos el clasificador\r\n",
        "model.add(Dense(1, activation='sigmoid'))\r\n",
        "#Compilación\r\n",
        "model.compile(optimizer='rmsprop', loss='binary_crossentropy', metrics=['acc'])\r\n",
        "#Resumen de la arquitectura\r\n",
        "model.summary()\r\n",
        "\r\n",
        "#Entrenamiento\r\n",
        "history = model.fit(input_train, y_train,\r\n",
        "                    epochs=10,\r\n",
        "                    batch_size=128,\r\n",
        "                    validation_split=0.2)"
      ],
      "execution_count": 3,
      "outputs": [
        {
          "output_type": "stream",
          "text": [
            "Model: \"sequential\"\n",
            "_________________________________________________________________\n",
            "Layer (type)                 Output Shape              Param #   \n",
            "=================================================================\n",
            "embedding (Embedding)        (None, None, 32)          320000    \n",
            "_________________________________________________________________\n",
            "simple_rnn (SimpleRNN)       (None, 32)                2080      \n",
            "_________________________________________________________________\n",
            "dense (Dense)                (None, 1)                 33        \n",
            "=================================================================\n",
            "Total params: 322,113\n",
            "Trainable params: 322,113\n",
            "Non-trainable params: 0\n",
            "_________________________________________________________________\n",
            "Epoch 1/10\n",
            "157/157 [==============================] - 24s 147ms/step - loss: 0.6375 - acc: 0.6334 - val_loss: 0.3867 - val_acc: 0.8446\n",
            "Epoch 2/10\n",
            "157/157 [==============================] - 22s 140ms/step - loss: 0.3595 - acc: 0.8557 - val_loss: 0.4365 - val_acc: 0.7892\n",
            "Epoch 3/10\n",
            "157/157 [==============================] - 22s 141ms/step - loss: 0.2754 - acc: 0.8964 - val_loss: 0.3254 - val_acc: 0.8732\n",
            "Epoch 4/10\n",
            "157/157 [==============================] - 22s 140ms/step - loss: 0.2294 - acc: 0.9173 - val_loss: 0.3600 - val_acc: 0.8438\n",
            "Epoch 5/10\n",
            "157/157 [==============================] - 22s 140ms/step - loss: 0.2001 - acc: 0.9266 - val_loss: 0.3531 - val_acc: 0.8574\n",
            "Epoch 6/10\n",
            "157/157 [==============================] - 22s 141ms/step - loss: 0.1549 - acc: 0.9453 - val_loss: 0.3654 - val_acc: 0.8688\n",
            "Epoch 7/10\n",
            "157/157 [==============================] - 22s 142ms/step - loss: 0.1191 - acc: 0.9593 - val_loss: 0.5158 - val_acc: 0.8506\n",
            "Epoch 8/10\n",
            "157/157 [==============================] - 22s 140ms/step - loss: 0.1011 - acc: 0.9666 - val_loss: 0.4573 - val_acc: 0.8242\n",
            "Epoch 9/10\n",
            "157/157 [==============================] - 22s 139ms/step - loss: 0.0656 - acc: 0.9810 - val_loss: 0.4828 - val_acc: 0.8270\n",
            "Epoch 10/10\n",
            "157/157 [==============================] - 22s 140ms/step - loss: 0.0664 - acc: 0.9774 - val_loss: 0.4867 - val_acc: 0.8484\n"
          ],
          "name": "stdout"
        }
      ]
    },
    {
      "cell_type": "code",
      "metadata": {
        "colab": {
          "base_uri": "https://localhost:8080/",
          "height": 579
        },
        "id": "EVwbwmkxy9Qr",
        "outputId": "c2f1fc9f-3ca3-4fe4-8401-7128cbbe27c6"
      },
      "source": [
        "import matplotlib.pyplot as plt\r\n",
        "\r\n",
        "acc = history.history['acc']\r\n",
        "val_acc = history.history['val_acc']\r\n",
        "max_val_acc = max(val_acc)\r\n",
        "max_val_acc_epoch= val_acc.index(max(val_acc)) + 1\r\n",
        "loss = history.history['loss']\r\n",
        "val_loss = history.history['val_loss']\r\n",
        "min_val_loss = min(val_loss)\r\n",
        "min_val_loss_epoch= val_loss.index(min(val_loss)) + 1\r\n",
        "\r\n",
        "epochs = range(len(acc))\r\n",
        "\r\n",
        "#Precisión\r\n",
        "plt.plot(epochs, acc, 'go', label='Precisión en el entrenamiento')\r\n",
        "plt.plot(epochs, val_acc, 'r', label='Precisión en la validación')\r\n",
        "plt.plot(max_val_acc_epoch, max_val_acc, 'bo', label='Maximum accuracy')\r\n",
        "plt.title('Precisión durante el entrenamiento y la validación')\r\n",
        "plt.legend()\r\n",
        "print('Best accuracy epoch: % d, Value : % .10f' %(max_val_acc_epoch, max_val_acc))\r\n",
        "plt.figure()\r\n",
        "\r\n",
        "#Pérdida\r\n",
        "plt.plot(epochs, loss, 'go', label='Pérdida en el entrenamiento')\r\n",
        "plt.plot(epochs, val_loss, 'r', label='Pérdida en la validación')\r\n",
        "plt.plot(min_val_loss_epoch, min_val_loss, 'bo', label='Minimum loss')\r\n",
        "plt.title('Pérdida durante el entrenamiento y la validación')\r\n",
        "plt.legend()\r\n",
        "print('Best loss epoch ', min_val_loss_epoch)\r\n",
        "\r\n",
        "plt.show()"
      ],
      "execution_count": 7,
      "outputs": [
        {
          "output_type": "stream",
          "text": [
            "Best accuracy epoch:  3, Value :  0.8731999993\n",
            "Best loss epoch  3\n"
          ],
          "name": "stdout"
        },
        {
          "output_type": "display_data",
          "data": {
            "image/png": "[encoded data removed]",
            "text/plain": [
              "<Figure size 432x288 with 1 Axes>"
            ]
          },
          "metadata": {
            "tags": [],
            "needs_background": "light"
          }
        },
        {
          "output_type": "display_data",
          "data": {
            "image/png": "[encoded data removed]",
            "text/plain": [
              "<Figure size 432x288 with 1 Axes>"
            ]
          },
          "metadata": {
            "tags": [],
            "needs_background": "light"
          }
        }
      ]
    },
    {
      "cell_type": "markdown",
      "metadata": {
        "id": "9fBUL1Jd1Gs2"
      },
      "source": [
        "# **Implementación de LSTM**"
      ]
    },
    {
      "cell_type": "markdown",
      "metadata": {
        "id": "vhMluhez1Goh"
      },
      "source": [
        ""
      ]
    },
    {
      "cell_type": "code",
      "metadata": {
        "colab": {
          "base_uri": "https://localhost:8080/"
        },
        "id": "bboEyWL21A5_",
        "outputId": "20d9b5e2-1088-46da-8bd3-4ce6d3edb970"
      },
      "source": [
        "from tensorflow.keras.layers import LSTM\r\n",
        "\r\n",
        "model = Sequential()\r\n",
        "model.add(Embedding(max_features, 32))\r\n",
        "model.add(LSTM(32))\r\n",
        "\r\n",
        "# Agregamos el clasificador\r\n",
        "model.add(Dense(1, activation='sigmoid'))\r\n",
        "#Compilación\r\n",
        "model.compile(optimizer='rmsprop', loss='binary_crossentropy', metrics=['acc'])\r\n",
        "#Resumen de la arquitectura\r\n",
        "model.summary()\r\n",
        "\r\n",
        "#Entrenamiento\r\n",
        "history = model.fit(input_train, y_train,\r\n",
        "                    epochs=10,\r\n",
        "                    batch_size=128,\r\n",
        "                    validation_split=0.2)"
      ],
      "execution_count": 8,
      "outputs": [
        {
          "output_type": "stream",
          "text": [
            "Model: \"sequential_1\"\n",
            "_________________________________________________________________\n",
            "Layer (type)                 Output Shape              Param #   \n",
            "=================================================================\n",
            "embedding_1 (Embedding)      (None, None, 32)          320000    \n",
            "_________________________________________________________________\n",
            "lstm (LSTM)                  (None, 32)                8320      \n",
            "_________________________________________________________________\n",
            "dense_1 (Dense)              (None, 1)                 33        \n",
            "=================================================================\n",
            "Total params: 328,353\n",
            "Trainable params: 328,353\n",
            "Non-trainable params: 0\n",
            "_________________________________________________________________\n",
            "Epoch 1/10\n",
            "157/157 [==============================] - 52s 322ms/step - loss: 0.6338 - acc: 0.6483 - val_loss: 0.3713 - val_acc: 0.8516\n",
            "Epoch 2/10\n",
            "157/157 [==============================] - 55s 350ms/step - loss: 0.3381 - acc: 0.8644 - val_loss: 0.3426 - val_acc: 0.8560\n",
            "Epoch 3/10\n",
            "157/157 [==============================] - 54s 343ms/step - loss: 0.2527 - acc: 0.9039 - val_loss: 0.2724 - val_acc: 0.8884\n",
            "Epoch 4/10\n",
            "157/157 [==============================] - 54s 344ms/step - loss: 0.2149 - acc: 0.9203 - val_loss: 0.2961 - val_acc: 0.8756\n",
            "Epoch 5/10\n",
            "157/157 [==============================] - 53s 341ms/step - loss: 0.1798 - acc: 0.9352 - val_loss: 0.5143 - val_acc: 0.8370\n",
            "Epoch 6/10\n",
            "157/157 [==============================] - 54s 343ms/step - loss: 0.1680 - acc: 0.9413 - val_loss: 0.2854 - val_acc: 0.8846\n",
            "Epoch 7/10\n",
            "157/157 [==============================] - 54s 343ms/step - loss: 0.1381 - acc: 0.9519 - val_loss: 0.3146 - val_acc: 0.8920\n",
            "Epoch 8/10\n",
            "157/157 [==============================] - 53s 340ms/step - loss: 0.1305 - acc: 0.9540 - val_loss: 0.4994 - val_acc: 0.8612\n",
            "Epoch 9/10\n",
            "157/157 [==============================] - 57s 361ms/step - loss: 0.1236 - acc: 0.9566 - val_loss: 0.3493 - val_acc: 0.8862\n",
            "Epoch 10/10\n",
            "157/157 [==============================] - 56s 360ms/step - loss: 0.1012 - acc: 0.9649 - val_loss: 0.3744 - val_acc: 0.8828\n"
          ],
          "name": "stdout"
        }
      ]
    }
  ]
}