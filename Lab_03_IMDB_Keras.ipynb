{
  "nbformat": 4,
  "nbformat_minor": 0,
  "metadata": {
    "colab": {
      "name": "Lab_03_IMDB_Keras.ipynb",
      "provenance": [],
      "collapsed_sections": [],
      "include_colab_link": true
    },
    "kernelspec": {
      "name": "python3",
      "display_name": "Python 3"
    }
  },
  "cells": [
    {
      "cell_type": "markdown",
      "metadata": {
        "id": "view-in-github",
        "colab_type": "text"
      },
      "source": [
        "<a href=\"https://colab.research.google.com/github/RubenMcCarty/Deep-Learning/blob/main/Lab_03_IMDB_Keras.ipynb\" target=\"_parent\"><img src=\"https://colab.research.google.com/assets/colab-badge.svg\" alt=\"Open In Colab\"/></a>"
      ]
    },
    {
      "cell_type": "markdown",
      "metadata": {
        "id": "SZ1YMPZvFRpb"
      },
      "source": [
        "# **IMDB dataset** \n",
        "# Algoritmo para predecir las criticas positivas y negativas de películas de IMDB\n",
        "##  Creado por [M.Sc. Ruben Quispe](https://machinelearningmastery.com/tutorial-to-implement-k-nearest-neighbors-in-python-from-scratch/)\n",
        "### Curso [Machine Learning](https://eie.pe/curso-machine-learning/)"
      ]
    },
    {
      "cell_type": "markdown",
      "metadata": {
        "id": "SyxCte0Lz-qg"
      },
      "source": [
        "La base de datos IMDB (Internet Movie Database), se compone de 50,000 críticas de películas, donde 25,000 críticas conforman el conjunto de entrenamiento y 25,000 constituyen el conjunto de prueba. En cada conjunto, el 50% de las críticas son positivas y el restante 50% son negativas. Sitio web de IMDB: https://www.imdb.com/<br>\n",
        "La base de datos IMDB viene precargada en Keras:"
      ]
    },
    {
      "cell_type": "markdown",
      "metadata": {
        "id": "gqw0tO0YaWmf"
      },
      "source": [
        "El conjunto de datos de IMDB\r\n",
        "Trabajaremos con el \"conjunto de datos IMDB\", un conjunto de 50.000 reseñas muy polarizadas de Internet Movie Database. Se dividen en 25.000 revisiones para capacitación y 25.000 revisiones para pruebas, cada conjunto consta de un 50% de críticas negativas y un 50% de críticas positivas.\r\n",
        "\r\n",
        "¿Por qué tenemos estos dos conjuntos de prueba y entrenamiento separados? ¡Nunca debe probar un modelo de Machine Learning con los mismos datos que utilizó para entrenarlo! El hecho de que un modelo tenga un buen rendimiento en sus datos de entrenamiento no significa que funcionará bien en datos que nunca ha visto, y lo que realmente le importa es el rendimiento de su modelo en datos nuevos (dado que ya conoce las etiquetas de sus datos de entrenamiento - obviamente no necesita su modelo para predecirlos). Por ejemplo, es posible que su modelo termine simplemente memorizando un mapeo entre sus muestras de entrenamiento y sus objetivos, lo que sería completamente inútil para la tarea de predecir objetivos para datos nunca antes vistos. Repasaremos este punto con mucho más detalle en el próximo capítulo.\r\n",
        "\r\n",
        "Al igual que el conjunto de datos MNIST, el conjunto de datos IMDB viene empaquetado con Keras. Ya ha sido preprocesado: las revisiones (secuencias de palabras) se han convertido en secuencias de números enteros, donde cada número entero representa una palabra específica en un diccionario.\r\n",
        "\r\n",
        "El siguiente código cargará el conjunto de datos (cuando lo ejecute por primera vez, se descargarán aproximadamente 80 MB de datos en su máquina):"
      ]
    },
    {
      "cell_type": "code",
      "metadata": {
        "id": "S5k_oKrxz4tm",
        "colab": {
          "base_uri": "https://localhost:8080/"
        },
        "outputId": "d48189ad-d80b-441c-ef68-6a56d4eb24db"
      },
      "source": [
        "from tensorflow.keras.datasets import imdb\n",
        "\n",
        "(train_data, train_labels), (test_data, test_labels) = imdb.load_data(num_words=10000) "
      ],
      "execution_count": 51,
      "outputs": [
        {
          "output_type": "stream",
          "text": [
            "<string>:6: VisibleDeprecationWarning: Creating an ndarray from ragged nested sequences (which is a list-or-tuple of lists-or-tuples-or ndarrays with different lengths or shapes) is deprecated. If you meant to do this, you must specify 'dtype=object' when creating the ndarray\n",
            "/usr/local/lib/python3.6/dist-packages/tensorflow/python/keras/datasets/imdb.py:159: VisibleDeprecationWarning: Creating an ndarray from ragged nested sequences (which is a list-or-tuple of lists-or-tuples-or ndarrays with different lengths or shapes) is deprecated. If you meant to do this, you must specify 'dtype=object' when creating the ndarray\n",
            "  x_train, y_train = np.array(xs[:idx]), np.array(labels[:idx])\n",
            "/usr/local/lib/python3.6/dist-packages/tensorflow/python/keras/datasets/imdb.py:160: VisibleDeprecationWarning: Creating an ndarray from ragged nested sequences (which is a list-or-tuple of lists-or-tuples-or ndarrays with different lengths or shapes) is deprecated. If you meant to do this, you must specify 'dtype=object' when creating the ndarray\n",
            "  x_test, y_test = np.array(xs[idx:]), np.array(labels[idx:])\n"
          ],
          "name": "stderr"
        }
      ]
    },
    {
      "cell_type": "markdown",
      "metadata": {
        "id": "Tw1ZfnBc0wsg"
      },
      "source": [
        "El argumento num_word=10000, indica que sólo se tomarán en cuenta las 10,000 palabras más usuales dentro de la base de datos, esto con la intención de tener instancias de un tamaño más manejable."
      ]
    },
    {
      "cell_type": "markdown",
      "metadata": {
        "id": "0eDKjxwA1S3v"
      },
      "source": [
        "train_data y test_data son listas de críticas, donde cada crítica se compone de valores enteros, los cuales son el índice de alguna palabra en particular. Por su parte, train_labels y test_labels, son listas de 0's y 1's, donde 0 representa que la crítica es negativa y 1 que es positiva."
      ]
    },
    {
      "cell_type": "code",
      "metadata": {
        "id": "UxKz5kF514ng",
        "colab": {
          "base_uri": "https://localhost:8080/"
        },
        "outputId": "8062aae2-6c2f-408b-e282-1c363440383b"
      },
      "source": [
        "train_data[20000]"
      ],
      "execution_count": 52,
      "outputs": [
        {
          "output_type": "execute_result",
          "data": {
            "text/plain": [
              "[1,\n",
              " 6,\n",
              " 185,\n",
              " 255,\n",
              " 2478,\n",
              " 39,\n",
              " 4,\n",
              " 2,\n",
              " 15,\n",
              " 59,\n",
              " 9,\n",
              " 6,\n",
              " 1985,\n",
              " 448,\n",
              " 725,\n",
              " 6,\n",
              " 223,\n",
              " 1795,\n",
              " 7,\n",
              " 35,\n",
              " 2,\n",
              " 3612,\n",
              " 7,\n",
              " 5,\n",
              " 556,\n",
              " 18,\n",
              " 9781,\n",
              " 112,\n",
              " 31,\n",
              " 688,\n",
              " 8,\n",
              " 41,\n",
              " 501,\n",
              " 2199,\n",
              " 34,\n",
              " 349,\n",
              " 59,\n",
              " 4136,\n",
              " 4,\n",
              " 4281,\n",
              " 2,\n",
              " 5,\n",
              " 880,\n",
              " 4,\n",
              " 349,\n",
              " 59,\n",
              " 892,\n",
              " 1454,\n",
              " 11,\n",
              " 119,\n",
              " 19,\n",
              " 6,\n",
              " 243,\n",
              " 132,\n",
              " 41,\n",
              " 113,\n",
              " 739,\n",
              " 8,\n",
              " 193,\n",
              " 6,\n",
              " 471,\n",
              " 18,\n",
              " 4,\n",
              " 128,\n",
              " 54,\n",
              " 59,\n",
              " 9,\n",
              " 3540,\n",
              " 5,\n",
              " 41,\n",
              " 1461,\n",
              " 9,\n",
              " 556,\n",
              " 34,\n",
              " 6,\n",
              " 1143,\n",
              " 7,\n",
              " 3959,\n",
              " 9266,\n",
              " 174,\n",
              " 34,\n",
              " 134,\n",
              " 2484,\n",
              " 687,\n",
              " 4,\n",
              " 255,\n",
              " 1747,\n",
              " 8,\n",
              " 41,\n",
              " 1115,\n",
              " 771,\n",
              " 5,\n",
              " 4846,\n",
              " 1060,\n",
              " 23,\n",
              " 4,\n",
              " 3959,\n",
              " 1793,\n",
              " 8,\n",
              " 4,\n",
              " 288,\n",
              " 2,\n",
              " 3935,\n",
              " 10,\n",
              " 10,\n",
              " 2,\n",
              " 2,\n",
              " 2,\n",
              " 1080,\n",
              " 2,\n",
              " 2,\n",
              " 778,\n",
              " 19,\n",
              " 368,\n",
              " 6073,\n",
              " 2,\n",
              " 2,\n",
              " 837,\n",
              " 34,\n",
              " 2,\n",
              " 1976,\n",
              " 2,\n",
              " 2,\n",
              " 37,\n",
              " 17,\n",
              " 2,\n",
              " 2,\n",
              " 2,\n",
              " 2251,\n",
              " 59,\n",
              " 9,\n",
              " 6,\n",
              " 1985,\n",
              " 4,\n",
              " 2,\n",
              " 173,\n",
              " 9,\n",
              " 54,\n",
              " 4,\n",
              " 370,\n",
              " 4110,\n",
              " 978,\n",
              " 968,\n",
              " 200,\n",
              " 41,\n",
              " 2977,\n",
              " 4,\n",
              " 636,\n",
              " 2763,\n",
              " 2672,\n",
              " 41,\n",
              " 8557,\n",
              " 2,\n",
              " 16,\n",
              " 242,\n",
              " 6,\n",
              " 2,\n",
              " 1664,\n",
              " 1563,\n",
              " 2,\n",
              " 9,\n",
              " 472,\n",
              " 24,\n",
              " 6,\n",
              " 1985,\n",
              " 59,\n",
              " 9,\n",
              " 1533,\n",
              " 6,\n",
              " 55,\n",
              " 565,\n",
              " 7472,\n",
              " 10,\n",
              " 10,\n",
              " 17,\n",
              " 6,\n",
              " 22,\n",
              " 1985,\n",
              " 255,\n",
              " 11,\n",
              " 631,\n",
              " 62,\n",
              " 28,\n",
              " 77,\n",
              " 128,\n",
              " 48,\n",
              " 2,\n",
              " 109,\n",
              " 66,\n",
              " 16,\n",
              " 6,\n",
              " 668,\n",
              " 1985,\n",
              " 19,\n",
              " 41,\n",
              " 861,\n",
              " 2,\n",
              " 6,\n",
              " 87,\n",
              " 227,\n",
              " 7,\n",
              " 3588,\n",
              " 21,\n",
              " 17,\n",
              " 230,\n",
              " 17,\n",
              " 3469,\n",
              " 2391,\n",
              " 5,\n",
              " 541,\n",
              " 1554,\n",
              " 140,\n",
              " 14,\n",
              " 31,\n",
              " 9,\n",
              " 254,\n",
              " 8,\n",
              " 1559,\n",
              " 2,\n",
              " 2,\n",
              " 9,\n",
              " 345,\n",
              " 2516,\n",
              " 42,\n",
              " 2,\n",
              " 5758,\n",
              " 469,\n",
              " 4,\n",
              " 22,\n",
              " 63,\n",
              " 944,\n",
              " 6,\n",
              " 1257,\n",
              " 1166,\n",
              " 7,\n",
              " 2172,\n",
              " 599,\n",
              " 6203,\n",
              " 2,\n",
              " 2,\n",
              " 17,\n",
              " 2,\n",
              " 5,\n",
              " 8548,\n",
              " 2234,\n",
              " 5252,\n",
              " 17,\n",
              " 2,\n",
              " 26,\n",
              " 52,\n",
              " 696,\n",
              " 1850]"
            ]
          },
          "metadata": {
            "tags": []
          },
          "execution_count": 52
        }
      ]
    },
    {
      "cell_type": "code",
      "metadata": {
        "id": "fsC8CcZt1-Ye",
        "colab": {
          "base_uri": "https://localhost:8080/"
        },
        "outputId": "9cca2daa-0bae-4ba6-b0de-6a29ede001cb"
      },
      "source": [
        "len(train_data[1786]) # Cuantas palabras tiene la critica co indice 1786 tiene 113 palabras"
      ],
      "execution_count": 53,
      "outputs": [
        {
          "output_type": "execute_result",
          "data": {
            "text/plain": [
              "113"
            ]
          },
          "metadata": {
            "tags": []
          },
          "execution_count": 53
        }
      ]
    },
    {
      "cell_type": "code",
      "metadata": {
        "id": "429IzTsz202o",
        "colab": {
          "base_uri": "https://localhost:8080/"
        },
        "outputId": "e1228682-7c6d-4bb1-e140-883a3f0da031"
      },
      "source": [
        "train_labels[51] #La crítica 51 del conjunto de entrenamiento es negativa. 0 es negatiga y 1 es positiva"
      ],
      "execution_count": 54,
      "outputs": [
        {
          "output_type": "execute_result",
          "data": {
            "text/plain": [
              "0"
            ]
          },
          "metadata": {
            "tags": []
          },
          "execution_count": 54
        }
      ]
    },
    {
      "cell_type": "markdown",
      "metadata": {
        "id": "Cv3Q6aDZ23ye"
      },
      "source": [
        "Dado que establecimos la restricción de utilizar solamente las 10,000 palabras más usuales, ninguno de los índices que constituyen cada crítica, puede tener un valor mayor a 10,000:"
      ]
    },
    {
      "cell_type": "code",
      "metadata": {
        "id": "YqFEgGb13RX4",
        "colab": {
          "base_uri": "https://localhost:8080/"
        },
        "outputId": "1c0c3fa4-243f-4836-e2ae-0197422cba4a"
      },
      "source": [
        "max([max(sequence) for sequence in train_data])"
      ],
      "execution_count": 55,
      "outputs": [
        {
          "output_type": "execute_result",
          "data": {
            "text/plain": [
              "9999"
            ]
          },
          "metadata": {
            "tags": []
          },
          "execution_count": 55
        }
      ]
    },
    {
      "cell_type": "markdown",
      "metadata": {
        "id": "XUEKRBde3XBF"
      },
      "source": [
        "El código siguiente permite decodificar las críticas:"
      ]
    },
    {
      "cell_type": "code",
      "metadata": {
        "id": "FwUNXsRG3bJ_"
      },
      "source": [
        "#word_index es un diccionario que permite mapear cada palabra a su respectivo índice\n",
        "word_index = imdb.get_word_index()\n",
        "# Aplicamos la operación inversa, es decir, mapeamos de índices a palabras.\n",
        "reverse_word_index = dict([(value, key) for (key, value) in word_index.items()]) #dict significa dictionary, y te devuelve una lista de tuplas pares, donde\n",
        "#el primer valor de la lista, representa la clave o ID, y el segundo valor denota el valor de dicha clave.\n",
        "# Procedemos a decodificar la crítica. La razón por la que a cada índice le restamos 3, es\n",
        "#porque 0, 1 y 2 son índices reservados para los valores de \"padding\", \"comienzo de la secuencia\" y \"desconocido\".\n",
        "# El argumento \"?\" se regresa en caso de que el índice en cuestión no tenga asociado ninguna palabra.\n",
        "decoded_review = ' '.join([reverse_word_index.get(i - 3, '?') for i in train_data[15678]])"
      ],
      "execution_count": 56,
      "outputs": []
    },
    {
      "cell_type": "code",
      "metadata": {
        "id": "jPJAR1XV6Aax",
        "colab": {
          "base_uri": "https://localhost:8080/",
          "height": 137
        },
        "outputId": "1a2fd4cd-9ed8-4a9c-a902-99e72c374ada"
      },
      "source": [
        "decoded_review"
      ],
      "execution_count": 57,
      "outputs": [
        {
          "output_type": "execute_result",
          "data": {
            "application/vnd.google.colaboratory.intrinsic+json": {
              "type": "string"
            },
            "text/plain": [
              "\"? as much as i have enjoyed the hanzo the razor movies three is definitely enough ? got the gold ' the final adventure for the japanese ? with the impressive package is a fairly enjoyable piece of ? cinema but offers little new in terms of ideas whilst taking a big step backwards as far as ? is concerned br br the film opens with the appearance of a female ghost and looks as though it is going to explore supernatural territory something which might have taken the series in an interesting new direction unfortunately after the ? turns out to be nothing but a scooby doo style ? ? up by a corrupt ? official keen to keep people away from the lake where he is hiding stolen gold director ? ? is content to ? familiar elements from the first two films the result being a rather stale affair br br once again hanzo heads an investigation that requires him to ? women through the use of his mighty penis slice up his enemies and abuse his superiors on the way we get wild ? good natured rape hanzo forces himself on women who wind up ? his ? and bloody sword fights br br if you've already seen and appreciated the first two films you might as well watch this ? to complete the set but be warned this is probably the least satisfying one of them all br br 6 5 out of 10 rounded up to 7 for imdb\""
            ]
          },
          "metadata": {
            "tags": []
          },
          "execution_count": 57
        }
      ]
    },
    {
      "cell_type": "markdown",
      "metadata": {
        "id": "irLaid9Lb3si"
      },
      "source": [
        "# **Preparando los datos**\r\n",
        "No podemos alimentar listas de números enteros en una red neuronal. Tenemos que convertir nuestras listas en tensores. Hay dos formas de hacerlo:\r\n",
        "\r\n",
        "Podríamos rellenar nuestras listas para que todas tengan la misma longitud y convertirlas en un tensor de forma entero (muestras, índices_de_palabras), luego usar como primera capa en nuestra red una capa capaz de manejar tales tensores enteros (la capa Embedding que cubriremos en detalle más adelante en el libro).\r\n",
        "Podríamos codificar en caliente nuestras listas para convertirlas en vectores de 0 y 1. Concretamente, esto significaría, por ejemplo, convertir la secuencia [3, 5] en un vector de 10,000 dimensiones que sería todo ceros excepto los índices 3 y 5, que serían unos. Entonces podríamos usar como primera capa en nuestra red una capa Densa, capaz de manejar datos vectoriales de punto flotante.\r\n",
        "Iremos con la última solución. Vectoricemos nuestros datos, lo que haremos manualmente para mayor claridad."
      ]
    },
    {
      "cell_type": "markdown",
      "metadata": {
        "id": "Al09obtH6SZg"
      },
      "source": [
        "# **Preprocesamiento de los datos**"
      ]
    },
    {
      "cell_type": "markdown",
      "metadata": {
        "id": "UQHydxeT6Vru"
      },
      "source": [
        "Aplicamos el enfoque de one-hot encoding a los datos de entrada. Por ejemplo, si una de nuestras instancias se representa por la lista [2, 7, 15], al aplicar one-hot encoding, dicha lista se convertirá en un vector de 10,000 elementos, donde a los índices 2, 7 y 15, se les asignará el valor de 1. En el problema que estamos abordando, todas las listas de críticas se transforman en vectores de 10,000 elementos, debido a que el número máximo de palabras que se están considerando, son 10,000. <br>\n",
        "La razón por la que se aplica esta operación en los datos de entrada, es porque las redes neuronales convolucionales no reciben como entrada listas de valores, sino tensores.<br>\n",
        "Ejemplo:\n",
        "\n",
        "**Crítica -> [2, 7, 15]** <br>\n",
        "**One-hot encoding de la crítica -> [0, 0, 1, 0, 0, 0, 0, 1, 0, 0, 0, 0, 0, 0, 0, 1, 0, 0, ... , 0]** <br>\n",
        "**Crítica -> [9, 7, 1, 2, 7]** <br>\n",
        "**One-hot encoding de la crítica -> [0, 1, 1, 0, 0, 0, 0, 1, 0, 1, 0, 0, 0, 0, 0, 0, 0, 0, ... , 0]**"
      ]
    },
    {
      "cell_type": "code",
      "metadata": {
        "colab": {
          "base_uri": "https://localhost:8080/"
        },
        "id": "Q37c4e_rur0_",
        "outputId": "10a21348-9d52-4a30-aafa-3051d058b2fd"
      },
      "source": [
        "for i in range (5):\r\n",
        "  print(len(train_data[i]))"
      ],
      "execution_count": 58,
      "outputs": [
        {
          "output_type": "stream",
          "text": [
            "218\n",
            "189\n",
            "141\n",
            "550\n",
            "147\n"
          ],
          "name": "stdout"
        }
      ]
    },
    {
      "cell_type": "code",
      "metadata": {
        "id": "24fugxvF6Us9"
      },
      "source": [
        "import numpy as np\n",
        "\n",
        "def vectorize_sequences(sequences, dimension=10000): #sequences se refiere al conjunto de críticas\n",
        "    # Creamos matrices de ceros con dimensiones (len(sequences), dimension)\n",
        "    results = np.zeros((len(sequences), dimension)) #-> 25,000 X 10,000\n",
        "    for i, sequence in enumerate(sequences):\n",
        "        results[i, sequence] = 1.  # le asignamos el valor de uno al índice correspondiente\n",
        "    return results\n",
        "\n",
        "# Conjunto de entrenamiento vectorizado/one-hote encoding\n",
        "x_train = vectorize_sequences(train_data)\n",
        "# Conjunto de prueba vectorizado/one-hote encoding\n",
        "x_test = vectorize_sequences(test_data)"
      ],
      "execution_count": 59,
      "outputs": []
    },
    {
      "cell_type": "code",
      "metadata": {
        "id": "TqF6gZrIUGBF",
        "colab": {
          "base_uri": "https://localhost:8080/"
        },
        "outputId": "ad07ea2c-82e1-40b4-a24a-12afe0299c66"
      },
      "source": [
        "x_train[23976]"
      ],
      "execution_count": 60,
      "outputs": [
        {
          "output_type": "execute_result",
          "data": {
            "text/plain": [
              "array([0., 1., 1., ..., 0., 0., 0.])"
            ]
          },
          "metadata": {
            "tags": []
          },
          "execution_count": 60
        }
      ]
    },
    {
      "cell_type": "code",
      "metadata": {
        "id": "2g672_NBT82z",
        "colab": {
          "base_uri": "https://localhost:8080/"
        },
        "outputId": "b79b225e-3d17-4b45-963d-2c00bdd8887b"
      },
      "source": [
        "len(x_train[12])"
      ],
      "execution_count": 61,
      "outputs": [
        {
          "output_type": "execute_result",
          "data": {
            "text/plain": [
              "10000"
            ]
          },
          "metadata": {
            "tags": []
          },
          "execution_count": 61
        }
      ]
    },
    {
      "cell_type": "code",
      "metadata": {
        "id": "lbNkuupnT8Uc",
        "colab": {
          "base_uri": "https://localhost:8080/"
        },
        "outputId": "d4c1946e-cf0a-46d2-b1d6-bd0c0b68bb15"
      },
      "source": [
        "x_train[1].shape"
      ],
      "execution_count": 62,
      "outputs": [
        {
          "output_type": "execute_result",
          "data": {
            "text/plain": [
              "(10000,)"
            ]
          },
          "metadata": {
            "tags": []
          },
          "execution_count": 62
        }
      ]
    },
    {
      "cell_type": "code",
      "metadata": {
        "id": "YHugKBJ4UAd5",
        "colab": {
          "base_uri": "https://localhost:8080/"
        },
        "outputId": "db2d8966-3e6d-4af3-bbb3-9a79fa889998"
      },
      "source": [
        "x_train.shape"
      ],
      "execution_count": 63,
      "outputs": [
        {
          "output_type": "execute_result",
          "data": {
            "text/plain": [
              "(25000, 10000)"
            ]
          },
          "metadata": {
            "tags": []
          },
          "execution_count": 63
        }
      ]
    },
    {
      "cell_type": "code",
      "metadata": {
        "id": "VfJ9c6pd-GZn",
        "colab": {
          "base_uri": "https://localhost:8080/"
        },
        "outputId": "80d85136-10ec-4ec1-b05a-cd1973e6fe8b"
      },
      "source": [
        "x_train[15879]"
      ],
      "execution_count": 64,
      "outputs": [
        {
          "output_type": "execute_result",
          "data": {
            "text/plain": [
              "array([0., 1., 1., ..., 0., 0., 0.])"
            ]
          },
          "metadata": {
            "tags": []
          },
          "execution_count": 64
        }
      ]
    },
    {
      "cell_type": "markdown",
      "metadata": {
        "id": "eN8-njVs-ykK"
      },
      "source": [
        "También convertimos las etiquetas en tensores:"
      ]
    },
    {
      "cell_type": "code",
      "metadata": {
        "id": "CpP5gJyI-1k9"
      },
      "source": [
        "# Etiquetas vectorizadas\n",
        "y_train = np.asarray(train_labels).astype('float32')\n",
        "y_test = np.asarray(test_labels).astype('float32')"
      ],
      "execution_count": 65,
      "outputs": []
    },
    {
      "cell_type": "code",
      "metadata": {
        "id": "vFw005TuVIIB",
        "colab": {
          "base_uri": "https://localhost:8080/"
        },
        "outputId": "71c03e8a-56ff-4f41-95a5-b05054c6434f"
      },
      "source": [
        "y_train[3]"
      ],
      "execution_count": 66,
      "outputs": [
        {
          "output_type": "execute_result",
          "data": {
            "text/plain": [
              "1.0"
            ]
          },
          "metadata": {
            "tags": []
          },
          "execution_count": 66
        }
      ]
    },
    {
      "cell_type": "markdown",
      "metadata": {
        "id": "tyigcFvc_vI3"
      },
      "source": [
        "# **Construcción de la red neuronal**\r\n",
        "Nuestros datos de entrada son simplemente vectores y nuestras etiquetas son escalares (1 y 0): esta es la configuración más fácil que encontrará. Un tipo de red que funciona bien en un problema de este tipo sería una simple stack de capas completamente conectadas (densas) con activaciones de relu: Densa (16,\r\n",
        "activación = 'relu')\r\n",
        "\r\n",
        "El argumento que se pasa a cada capa Densa (16) es el número de \"unidades ocultas\" de la capa. ¿Qué es una unidad oculta? Es una dimensión en el espacio de representación de la capa. Puede recordar del capítulo anterior que cada capa Densa con una activación relu implementa la siguiente cadena de operaciones de tensor:\r\n",
        "\r\n",
        "output = relu (dot (W, input) + b)\r\n",
        "\r\n",
        "Tener 16 unidades ocultas significa que la matriz de peso W tendrá forma (input_dimension, 16), es decir, el producto escalar con W proyectará los datos de entrada en un espacio de representación de 16 dimensiones (y luego agregaríamos el vector de sesgo by aplicaríamos el operación relu). Puede entender intuitivamente la dimensionalidad de su espacio de representación como \"cuánta libertad está permitiendo que tenga la red cuando aprende representaciones internas\". Tener más unidades ocultas (un espacio de representación de mayor dimensión) permite que su red aprenda representaciones más complejas, pero hace que su red sea más costosa computacionalmente y puede conducir al aprendizaje de patrones no deseados (patrones que mejorarán el rendimiento en los datos de entrenamiento pero no en el datos de prueba).\r\n",
        "\r\n",
        "Hay dos decisiones de arquitectura clave que se deben tomar sobre dicha stack de capas densas:\r\n",
        "\r\n",
        "* Cuántas capas usar.\r\n",
        "* Cuántas \"unidades ocultas\" elegir para cada capa.\r\n",
        "\r\n",
        "En el próximo capítulo, aprenderá los principios formales que lo guiarán al tomar estas decisiones. Por el momento, tendrá que confiarnos la siguiente elección de arquitectura: dos capas intermedias con 16 unidades ocultas cada una, y una tercera capa que generará la predicción escalar con respecto al sentimiento de la revisión actual. Las capas intermedias utilizarán relu como su \"función de activación\", y la capa final utilizará una activación sigmoid para generar una probabilidad (una puntuación entre 0 y 1, que indica la probabilidad de que la muestra tenga el objetivo \"1\", es decir, qué tan probable es que la revisión sea positiva). Un relu (unidad lineal rectificada) es una función destinada a poner a cero los valores negativos, mientras que un sigmoid \"squashes-aplasta\" valores arbitrarios en el intervalo [0, 1], generando así algo que se puede interpretar como una probabilidad.\r\n",
        "\r\n",
        "Así es como se ve nuestra red\r\n"
      ]
    },
    {
      "cell_type": "markdown",
      "metadata": {
        "id": "CTbFuyFMfNoz"
      },
      "source": [
        "![image.png](data:image/png;base64,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)"
      ]
    },
    {
      "cell_type": "code",
      "metadata": {
        "id": "Z8Yn31s-_xpN"
      },
      "source": [
        "from tensorflow.keras import models\n",
        "from tensorflow.keras import layers\n",
        "\n",
        "model = models.Sequential()\n",
        "model.add(layers.Dense(16, activation='relu', input_shape=(10000,))) #Capa oculta 1 - input_shape puede verse como una representación implícita de la capa de entrada\n",
        "model.add(layers.Dense(16, activation='relu'))# Capa oculta 2\n",
        "model.add(layers.Dense(1, activation='sigmoid'))#Capa de salida"
      ],
      "execution_count": 67,
      "outputs": []
    },
    {
      "cell_type": "code",
      "metadata": {
        "id": "g_BA0lc-iuPY",
        "colab": {
          "base_uri": "https://localhost:8080/"
        },
        "outputId": "0c99a71d-7b97-4035-e4ff-dccde8106f23"
      },
      "source": [
        "model.summary()"
      ],
      "execution_count": 68,
      "outputs": [
        {
          "output_type": "stream",
          "text": [
            "Model: \"sequential_3\"\n",
            "_________________________________________________________________\n",
            "Layer (type)                 Output Shape              Param #   \n",
            "=================================================================\n",
            "dense_9 (Dense)              (None, 16)                160016    \n",
            "_________________________________________________________________\n",
            "dense_10 (Dense)             (None, 16)                272       \n",
            "_________________________________________________________________\n",
            "dense_11 (Dense)             (None, 1)                 17        \n",
            "=================================================================\n",
            "Total params: 160,305\n",
            "Trainable params: 160,305\n",
            "Non-trainable params: 0\n",
            "_________________________________________________________________\n"
          ],
          "name": "stdout"
        }
      ]
    },
    {
      "cell_type": "markdown",
      "metadata": {
        "id": "xY04xdUYAFeE"
      },
      "source": [
        "# **Compilación**"
      ]
    },
    {
      "cell_type": "markdown",
      "metadata": {
        "id": "yFTZaX4jfU4o"
      },
      "source": [
        "Por último, debemos elegir una función de pérdida y un optimizador. Dado que nos enfrentamos a un problema de clasificación binaria y la salida de nuestra red es una probabilidad (terminamos nuestra red con una capa de una sola unidad con una activación sigmoid), es mejor usar la pérdida de binary_crossentropy. No es la única opción viable: podría usar, por ejemplo, mean_squared_error. Pero la entropía cruzada suele ser la mejor opción cuando se trata de modelos que generan probabilidades. La entropía cruzada es una cantidad del campo de la Teoría de la Información, que mide la \"distancia\" entre las distribuciones de probabilidad, o en nuestro caso, entre la distribución de verdad fundamental y nuestras predicciones.\r\n",
        "\r\n",
        "Aquí está el paso en el que configuramos nuestro modelo con el optimizador rmsprop y la función de pérdida binary_crossentropy. Tenga en cuenta que también controlaremos la precisión durante el entrenamiento."
      ]
    },
    {
      "cell_type": "code",
      "metadata": {
        "id": "8_T3TRHTAEIV"
      },
      "source": [
        "from tensorflow.keras import optimizers\n",
        "model.compile(optimizer=optimizers.RMSprop(lr=0.001), #Es una variación del descenso de gradiente\n",
        "              loss='binary_crossentropy', #Se relaciona a la función de error \n",
        "              metrics=['accuracy'])"
      ],
      "execution_count": 69,
      "outputs": []
    },
    {
      "cell_type": "markdown",
      "metadata": {
        "id": "k35EAUeHAtc_"
      },
      "source": [
        "# **Validación**"
      ]
    },
    {
      "cell_type": "markdown",
      "metadata": {
        "id": "9NBURPE3Axt2"
      },
      "source": [
        "Buscando evaluar el rendimiento del modelo durante la fase de entrenamiento, construimos el conjunto de validación a partir del conjunto de entrenamiento."
      ]
    },
    {
      "cell_type": "code",
      "metadata": {
        "id": "hEWPTE0eAwIF"
      },
      "source": [
        "#Instancias\n",
        "x_val = x_train[:10000] #Instancias de validación\n",
        "#x_val = x_train[0:10000]\n",
        "partial_x_train = x_train[10000:] #Instancias de entrenamiento\n",
        "#partial_x_train = x_train[10000:25000] #Instancias de entrenamiento\n",
        "\n",
        "#Etiquetas\n",
        "y_val = y_train[:10000] #Etiquetas de validación  \n",
        "#y_val = y_train[0:10000] #Etiquetas de validación  \n",
        "partial_y_train = y_train[10000:] #Etiquetas de entrenamiento\n",
        "#partial_y_train = y_train[10000:25000] #Etiquetas de entrenamiento"
      ],
      "execution_count": 70,
      "outputs": []
    },
    {
      "cell_type": "code",
      "metadata": {
        "id": "8jdBLQB9Yejh",
        "colab": {
          "base_uri": "https://localhost:8080/"
        },
        "outputId": "5b4ad932-fbd6-478e-a330-7b3c7378648f"
      },
      "source": [
        "#Conjunto de entrenamiento\n",
        "len(partial_x_train)"
      ],
      "execution_count": 71,
      "outputs": [
        {
          "output_type": "execute_result",
          "data": {
            "text/plain": [
              "15000"
            ]
          },
          "metadata": {
            "tags": []
          },
          "execution_count": 71
        }
      ]
    },
    {
      "cell_type": "code",
      "metadata": {
        "id": "x1SoiGZgYjxN",
        "colab": {
          "base_uri": "https://localhost:8080/"
        },
        "outputId": "82aa54ef-e99c-470b-9e37-6ede81488881"
      },
      "source": [
        "#Conjunto de validación\n",
        "len(x_val)"
      ],
      "execution_count": 72,
      "outputs": [
        {
          "output_type": "execute_result",
          "data": {
            "text/plain": [
              "10000"
            ]
          },
          "metadata": {
            "tags": []
          },
          "execution_count": 72
        }
      ]
    },
    {
      "cell_type": "markdown",
      "metadata": {
        "id": "gj4P5iKfBN78"
      },
      "source": [
        "# **Entrenamiento**\r\n",
        "Ahora entrenaremos nuestro modelo durante 20 épocas (20 iteraciones sobre todas las muestras en los tensores x_train e y_train), en mini lotes de 512 muestras. Al mismo tiempo, monitorearemos la pérdida y precisión de las 10,000 muestras que separamos. Esto se hace pasando los datos de validación como el argumento validation_data:"
      ]
    },
    {
      "cell_type": "code",
      "metadata": {
        "id": "b8TUQ6oSBQP9",
        "colab": {
          "base_uri": "https://localhost:8080/"
        },
        "outputId": "aab9a43b-e328-4b19-d84b-108f5f305247"
      },
      "source": [
        "epochs_num = 20\n",
        "history = model.fit(partial_x_train,\n",
        "                    partial_y_train,\n",
        "                    epochs=epochs_num,\n",
        "                    batch_size=512,\n",
        "                    validation_data=(x_val, y_val))"
      ],
      "execution_count": 73,
      "outputs": [
        {
          "output_type": "stream",
          "text": [
            "Epoch 1/20\n",
            "30/30 [==============================] - 2s 50ms/step - loss: 0.5925 - accuracy: 0.6958 - val_loss: 0.4028 - val_accuracy: 0.8546\n",
            "Epoch 2/20\n",
            "30/30 [==============================] - 1s 35ms/step - loss: 0.3327 - accuracy: 0.8977 - val_loss: 0.3263 - val_accuracy: 0.8753\n",
            "Epoch 3/20\n",
            "30/30 [==============================] - 1s 35ms/step - loss: 0.2377 - accuracy: 0.9223 - val_loss: 0.2909 - val_accuracy: 0.8838\n",
            "Epoch 4/20\n",
            "30/30 [==============================] - 1s 35ms/step - loss: 0.1820 - accuracy: 0.9406 - val_loss: 0.2750 - val_accuracy: 0.8901\n",
            "Epoch 5/20\n",
            "30/30 [==============================] - 1s 36ms/step - loss: 0.1438 - accuracy: 0.9575 - val_loss: 0.3041 - val_accuracy: 0.8776\n",
            "Epoch 6/20\n",
            "30/30 [==============================] - 1s 39ms/step - loss: 0.1151 - accuracy: 0.9683 - val_loss: 0.3194 - val_accuracy: 0.8784\n",
            "Epoch 7/20\n",
            "30/30 [==============================] - 1s 35ms/step - loss: 0.0994 - accuracy: 0.9719 - val_loss: 0.3064 - val_accuracy: 0.8836\n",
            "Epoch 8/20\n",
            "30/30 [==============================] - 1s 35ms/step - loss: 0.0779 - accuracy: 0.9795 - val_loss: 0.3368 - val_accuracy: 0.8766\n",
            "Epoch 9/20\n",
            "30/30 [==============================] - 1s 35ms/step - loss: 0.0626 - accuracy: 0.9847 - val_loss: 0.3790 - val_accuracy: 0.8703\n",
            "Epoch 10/20\n",
            "30/30 [==============================] - 1s 35ms/step - loss: 0.0532 - accuracy: 0.9866 - val_loss: 0.3907 - val_accuracy: 0.8782\n",
            "Epoch 11/20\n",
            "30/30 [==============================] - 1s 36ms/step - loss: 0.0405 - accuracy: 0.9924 - val_loss: 0.4008 - val_accuracy: 0.8753\n",
            "Epoch 12/20\n",
            "30/30 [==============================] - 1s 35ms/step - loss: 0.0318 - accuracy: 0.9931 - val_loss: 0.4332 - val_accuracy: 0.8752\n",
            "Epoch 13/20\n",
            "30/30 [==============================] - 1s 35ms/step - loss: 0.0258 - accuracy: 0.9952 - val_loss: 0.4961 - val_accuracy: 0.8629\n",
            "Epoch 14/20\n",
            "30/30 [==============================] - 1s 38ms/step - loss: 0.0205 - accuracy: 0.9974 - val_loss: 0.4925 - val_accuracy: 0.8733\n",
            "Epoch 15/20\n",
            "30/30 [==============================] - 1s 36ms/step - loss: 0.0144 - accuracy: 0.9984 - val_loss: 0.5184 - val_accuracy: 0.8702\n",
            "Epoch 16/20\n",
            "30/30 [==============================] - 1s 36ms/step - loss: 0.0109 - accuracy: 0.9989 - val_loss: 0.5492 - val_accuracy: 0.8696\n",
            "Epoch 17/20\n",
            "30/30 [==============================] - 1s 35ms/step - loss: 0.0071 - accuracy: 0.9999 - val_loss: 0.5775 - val_accuracy: 0.8691\n",
            "Epoch 18/20\n",
            "30/30 [==============================] - 1s 35ms/step - loss: 0.0070 - accuracy: 0.9992 - val_loss: 0.6156 - val_accuracy: 0.8689\n",
            "Epoch 19/20\n",
            "30/30 [==============================] - 1s 44ms/step - loss: 0.0042 - accuracy: 0.9999 - val_loss: 0.6547 - val_accuracy: 0.8690\n",
            "Epoch 20/20\n",
            "30/30 [==============================] - 1s 35ms/step - loss: 0.0031 - accuracy: 0.9999 - val_loss: 0.7153 - val_accuracy: 0.8600\n"
          ],
          "name": "stdout"
        }
      ]
    },
    {
      "cell_type": "markdown",
      "metadata": {
        "id": "z7XCBSPuBfP0"
      },
      "source": [
        "Podemos ver que la llamada al método fit(), genera un objeto History, el cual tiene un miembro history, que a su vez es un diccionario que contiene información acerca de todo el proceso de entrenamiento."
      ]
    },
    {
      "cell_type": "code",
      "metadata": {
        "id": "ZDkkkrIJB1kG",
        "colab": {
          "base_uri": "https://localhost:8080/"
        },
        "outputId": "193e4eee-feef-473d-aa52-a3d77454e2eb"
      },
      "source": [
        "history_dict = history.history\n",
        "history_dict.keys()"
      ],
      "execution_count": 74,
      "outputs": [
        {
          "output_type": "execute_result",
          "data": {
            "text/plain": [
              "dict_keys(['loss', 'accuracy', 'val_loss', 'val_accuracy'])"
            ]
          },
          "metadata": {
            "tags": []
          },
          "execution_count": 74
        }
      ]
    },
    {
      "cell_type": "markdown",
      "metadata": {
        "id": "U6kAejSpCBFN"
      },
      "source": [
        "Graficamos el desempeño de la red neuronal durante la fase de entrenamiento. A continuación se muestra la comparación entre la pérdida que ocurre en el conjunto de entrenamiento y la pérdida relacionada al conjunto de validación. "
      ]
    },
    {
      "cell_type": "code",
      "metadata": {
        "id": "FjM7QAztB5it",
        "colab": {
          "base_uri": "https://localhost:8080/",
          "height": 579
        },
        "outputId": "4e73cdf0-5f3f-427c-96c6-69d3b5ec03af"
      },
      "source": [
        "import matplotlib.pyplot as plt\n",
        "\n",
        "acc = history.history['accuracy']\n",
        "val_acc = history.history['val_accuracy']\n",
        "max_val_acc = max(val_acc)\n",
        "max_val_acc_epoch= val_acc.index(max(val_acc)) + 1\n",
        "loss = history.history['loss']\n",
        "val_loss = history.history['val_loss']\n",
        "min_val_loss = min(val_loss)\n",
        "min_val_loss_epoch= val_loss.index(min(val_loss)) + 1\n",
        "\n",
        "epochs = range(len(acc))\n",
        "\n",
        "#Precisión\n",
        "plt.plot(epochs, acc, 'go', label='Precisión en el entrenamiento')\n",
        "plt.plot(epochs, val_acc, 'r', label='Precisión en la validación')\n",
        "plt.plot(max_val_acc_epoch, max_val_acc, 'bo', label='Maximum accuracy')\n",
        "plt.title('Precisión durante el entrenamiento y la validación')\n",
        "plt.legend()\n",
        "print('Best accuracy epoch ', max_val_acc_epoch)\n",
        "plt.figure()\n",
        "\n",
        "#Pérdida\n",
        "plt.plot(epochs, loss, 'go', label='Pérdida en el entrenamiento')\n",
        "plt.plot(epochs, val_loss, 'r', label='Pérdida en la validación')\n",
        "plt.plot(min_val_loss_epoch, min_val_loss, 'bo', label='Minimum loss')\n",
        "plt.title('Pérdida durante el entrenamiento y la validación')\n",
        "plt.legend()\n",
        "print('Best loss epoch ', min_val_loss_epoch)\n",
        "\n",
        "plt.show()"
      ],
      "execution_count": 75,
      "outputs": [
        {
          "output_type": "stream",
          "text": [
            "Best accuracy epoch  4\n",
            "Best loss epoch  4\n"
          ],
          "name": "stdout"
        },
        {
          "output_type": "display_data",
          "data": {
            "image/png": "[encoded data removed]",
            "text/plain": [
              "<Figure size 432x288 with 1 Axes>"
            ]
          },
          "metadata": {
            "tags": [],
            "needs_background": "light"
          }
        },
        {
          "output_type": "display_data",
          "data": {
            "image/png": "[encoded data removed]",
            "text/plain": [
              "<Figure size 432x288 with 1 Axes>"
            ]
          },
          "metadata": {
            "tags": [],
            "needs_background": "light"
          }
        }
      ]
    },
    {
      "cell_type": "markdown",
      "metadata": {
        "id": "3WnpimJkQoo6"
      },
      "source": [
        "Con base a las gráficas previas, podemos observar que, aproximadamente a partir de la época 4, el modelo deja de mejorar y comienza a presentarse una disminución en su rendimiento.\r\n",
        "\r\n",
        "Los puntos son la pérdida y la precisión del entrenamiento, mientras que las líneas continuas son la pérdida y la precisión de la validación. Tenga en cuenta que sus propios resultados pueden variar ligeramente debido a una inicialización aleatoria diferente de su red.\r\n",
        "\r\n",
        "Como puede ver, la pérdida de entrenamiento disminuye con cada época y la precisión del entrenamiento aumenta con cada época. Eso es lo que esperaría al ejecutar la optimización del descenso de gradientes: la cantidad que está tratando de minimizar debería disminuir con cada iteración. Pero ese no es el caso de la pérdida y precisión de la validación: parecen alcanzar su punto máximo en la cuarta época. Este es un ejemplo de lo que advertimos anteriormente: un modelo que se desempeña mejor en los datos de entrenamiento no es necesariamente un modelo que lo hará mejor en datos que nunca antes había visto. En términos precisos, lo que está viendo es \"sobreajuste\": después de la segunda época, estamos optimizando en exceso los datos de entrenamiento y terminamos aprendiendo representaciones que son específicas de los datos de entrenamiento y no se generalizan a datos fuera del conjunto de entrenamiento.\r\n",
        "\r\n",
        "En este caso, para evitar un sobreajuste, simplemente podríamos dejar de entrenar después de tres épocas. En general, existe una variedad de técnicas que puede aprovechar para mitigar el sobreajuste, que trataremos en el próximo capítulo.\r\n",
        "\r\n",
        "Entrenemos una nueva red desde cero durante cuatro épocas, luego evaluémosla en nuestros datos de prueba:"
      ]
    },
    {
      "cell_type": "markdown",
      "metadata": {
        "id": "T4SLTEP6eoGt"
      },
      "source": [
        "# **Overfitting - Sobreajuste:**<br>\n",
        "Esto ocurre cuando el desempeño del modelo en el conjunto de entrenamiento es superior al rendimiento del mismo modelo en el conjunto de validación.<br>\n",
        "Para mitigar el overfitting, debemos buscar que el rendimiento del modelo tanto en el conjunto de entrenamiento como en el conjunto de validación, sea similar y con valores apropiados."
      ]
    },
    {
      "cell_type": "markdown",
      "metadata": {
        "id": "pQJfOSgVESRE"
      },
      "source": [
        "# **Re-entrenamiento y evaluación del modelo final** "
      ]
    },
    {
      "cell_type": "markdown",
      "metadata": {
        "id": "rFnzQ2F3v6iC"
      },
      "source": [
        "Una vez que se seleccionó el modelo tomando como base el rendimiento de este en el conjunto de validación, una práctica recomendada es volver a entrar la arquitectura con los mismos parámetros con los que se generó el modelo seleccionado y con el conjunto de entrenamiento original, es decir, integrado el conjunto de validación al conjunto de entrenamiento \"parcial\". \r\n",
        "\r\n"
      ]
    },
    {
      "cell_type": "code",
      "metadata": {
        "id": "1PQdKOxeEbFM",
        "colab": {
          "base_uri": "https://localhost:8080/"
        },
        "outputId": "c0d82296-4549-414f-d195-f45a5ea0e0a7"
      },
      "source": [
        "model = models.Sequential()\n",
        "model.add(layers.Dense(16, activation='relu', input_shape=(10000,)))\n",
        "model.add(layers.Dense(16, activation='relu'))\n",
        "model.add(layers.Dense(1, activation='sigmoid'))\n",
        "\n",
        "model.compile(optimizer=optimizers.RMSprop(lr=0.001),\n",
        "              loss='binary_crossentropy',\n",
        "              metrics=['accuracy'])\n",
        "\n",
        "# Entrenamos el modelo en el conjunto de entrenamiento original\n",
        "model.fit(x_train, y_train, epochs=5, batch_size=512)"
      ],
      "execution_count": 76,
      "outputs": [
        {
          "output_type": "stream",
          "text": [
            "Epoch 1/5\n",
            "49/49 [==============================] - 2s 27ms/step - loss: 0.5389 - accuracy: 0.7457\n",
            "Epoch 2/5\n",
            "49/49 [==============================] - 1s 28ms/step - loss: 0.2624 - accuracy: 0.9098\n",
            "Epoch 3/5\n",
            "49/49 [==============================] - 1s 30ms/step - loss: 0.2003 - accuracy: 0.9310\n",
            "Epoch 4/5\n",
            "49/49 [==============================] - 1s 27ms/step - loss: 0.1600 - accuracy: 0.9470\n",
            "Epoch 5/5\n",
            "49/49 [==============================] - 1s 27ms/step - loss: 0.1395 - accuracy: 0.9543\n"
          ],
          "name": "stdout"
        },
        {
          "output_type": "execute_result",
          "data": {
            "text/plain": [
              "<tensorflow.python.keras.callbacks.History at 0x7f271652f358>"
            ]
          },
          "metadata": {
            "tags": []
          },
          "execution_count": 76
        }
      ]
    },
    {
      "cell_type": "code",
      "metadata": {
        "id": "bsgLrSXXBuUI",
        "colab": {
          "base_uri": "https://localhost:8080/"
        },
        "outputId": "ba984157-c03c-4bf8-d26f-258f00aff9aa"
      },
      "source": [
        "#Evaluamos el modelo final\n",
        "loss_test, acc_test = model.evaluate(x_test, y_test)"
      ],
      "execution_count": 77,
      "outputs": [
        {
          "output_type": "stream",
          "text": [
            "782/782 [==============================] - 1s 2ms/step - loss: 0.3155 - accuracy: 0.8776\n"
          ],
          "name": "stdout"
        }
      ]
    },
    {
      "cell_type": "code",
      "metadata": {
        "id": "qBCyFJo4Ejss",
        "colab": {
          "base_uri": "https://localhost:8080/"
        },
        "outputId": "ca04cedb-8b3b-4908-9462-64e50fa9c137"
      },
      "source": [
        "print(loss_test, acc_test)"
      ],
      "execution_count": 78,
      "outputs": [
        {
          "output_type": "stream",
          "text": [
            "0.3155401647090912 0.8776000142097473\n"
          ],
          "name": "stdout"
        }
      ]
    },
    {
      "cell_type": "markdown",
      "metadata": {
        "id": "4v58mbPDEqC1"
      },
      "source": [
        "# **Predicciones del modelo final**"
      ]
    },
    {
      "cell_type": "markdown",
      "metadata": {
        "id": "Vyah_Qp1EvVV"
      },
      "source": [
        "Luego de generar un modelo apropiado para clasificar críticas, podemos usarlo para predecir la probabilidad de que cada nueva crítica que sea leída por el modelo, se clasifique como positiva o negativa. Este proceso predictivo es muy importante, ya que así es como se desplegaría esta red neuronal en \"la vida real\", es decir, en algún servicio de consumo."
      ]
    },
    {
      "cell_type": "code",
      "metadata": {
        "id": "yWED4A2ZFJCc",
        "colab": {
          "base_uri": "https://localhost:8080/"
        },
        "outputId": "06db71ec-de8a-4455-c1f8-0a4f29db63cf"
      },
      "source": [
        "model.predict(x_test)"
      ],
      "execution_count": 79,
      "outputs": [
        {
          "output_type": "execute_result",
          "data": {
            "text/plain": [
              "array([[0.16103575],\n",
              "       [0.99998116],\n",
              "       [0.8454529 ],\n",
              "       ...,\n",
              "       [0.1104224 ],\n",
              "       [0.06396174],\n",
              "       [0.5913146 ]], dtype=float32)"
            ]
          },
          "metadata": {
            "tags": []
          },
          "execution_count": 79
        }
      ]
    },
    {
      "cell_type": "code",
      "metadata": {
        "id": "AD5AC53WFNaz",
        "colab": {
          "base_uri": "https://localhost:8080/"
        },
        "outputId": "212a8308-aceb-4272-da4b-21c0454148e1"
      },
      "source": [
        "y_test"
      ],
      "execution_count": 80,
      "outputs": [
        {
          "output_type": "execute_result",
          "data": {
            "text/plain": [
              "array([0., 1., 1., ..., 0., 0., 0.], dtype=float32)"
            ]
          },
          "metadata": {
            "tags": []
          },
          "execution_count": 80
        }
      ]
    },
    {
      "cell_type": "markdown",
      "metadata": {
        "id": "FekKrabcxc-h"
      },
      "source": [
        "# **Experimentos adicionales**\r\n",
        "* Usamos 2 capas ocultas. Intente usar 1 o 3 capas ocultas y vea cómo afecta la validación y la precisión de la prueba.\r\n",
        "* Intenta utilizar capas con unidades más ocultas o unidades menos ocultas: 32 unidades, 64 unidades ...\r\n",
        "* Intente utilizar la función de pérdida mse en lugar de binary_crossentropy.\r\n",
        "* Intente usar la activación tanh (una activación que era popular en los primeros días de las redes neuronales) en lugar de relu.\r\n",
        "\r\n",
        "Estos experimentos lo ayudarán a convencerse de que las elecciones de arquitectura que hemos realizado son bastante razonables, ¡aunque aún se pueden mejorar!\r\n",
        "\r\n",
        "# **Conclusiones**\r\n",
        "Esto es lo que debe sacar de este ejemplo:\r\n",
        "\r\n",
        "* Por lo general, es necesario realizar un poco de preprocesamiento en sus datos sin procesar para poder alimentarlos, como tensores, en una red neuronal.En el caso de secuencias de palabras, se pueden codificar como vectores binarios, pero también existen otras opciones de codificación.\r\n",
        "* Los stacks de capas densas con activaciones de relu pueden resolver una amplia gama de problemas (incluida la clasificación de sentimientos), y es probable que las use con frecuencia.\r\n",
        "* En un problema de clasificación binaria (dos clases de salida), su red debe terminar con una capa densa con 1 unidad y una activación sigmoidea, es decir, la salida de su red debe ser un escalar entre 0 y 1, codificando una probabilidad.\r\n",
        "* Con tal salida sigmoide escalar, en un problema de clasificación binaria, la función de pérdida que debe usar es binary_crossentropy.\r\n",
        "* El optimizador rmsprop es generalmente una buena opción de optimizador, sea cual sea su problema. Eso es una cosa menos de la que debe preocuparse.\r\n",
        "* A medida que mejoran sus datos de entrenamiento, las redes neuronales eventualmente comienzan a sobreajustarse y terminan obteniendo resultados cada vez peores en datos nunca antes vistos. Asegúrese de supervisar siempre el rendimiento de los datos que están fuera del conjunto de entrenamiento."
      ]
    },
    {
      "cell_type": "code",
      "metadata": {
        "id": "7r6Q1fWhhyDT"
      },
      "source": [
        ""
      ],
      "execution_count": null,
      "outputs": []
    }
  ]
}