{
  "nbformat": 4,
  "nbformat_minor": 0,
  "metadata": {
    "colab": {
      "name": "Lab_06_IMDB_Embedding_vectors.ipynb",
      "provenance": [],
      "collapsed_sections": [],
      "include_colab_link": true
    },
    "kernelspec": {
      "name": "python3",
      "display_name": "Python 3"
    }
  },
  "cells": [
    {
      "cell_type": "markdown",
      "metadata": {
        "id": "view-in-github",
        "colab_type": "text"
      },
      "source": [
        "<a href=\"https://colab.research.google.com/github/RubenMcCarty/Deep-Learning/blob/main/Lab_06_IMDB_Embedding_vectors.ipynb\" target=\"_parent\"><img src=\"https://colab.research.google.com/assets/colab-badge.svg\" alt=\"Open In Colab\"/></a>"
      ]
    },
    {
      "cell_type": "markdown",
      "metadata": {
        "id": "iSc2EbCOx4xt"
      },
      "source": [
        "# Embeding Vector \n",
        "##  Creado por [M.Sc. Ruben Quispe](https://machinelearningmastery.com/tutorial-to-implement-k-nearest-neighbors-in-python-from-scratch/)\n",
        "### Curso [Machine Learning](https://eie.pe/curso-machine-learning/)"
      ]
    },
    {
      "cell_type": "code",
      "metadata": {
        "id": "M_3p2pLi72OC",
        "colab": {
          "base_uri": "https://localhost:8080/"
        },
        "outputId": "393122af-8b71-41e6-b902-56c97e11762a"
      },
      "source": [
        "from tensorflow.keras.datasets import imdb\n",
        "from tensorflow.keras import preprocessing\n",
        "\n",
        "# Utilizaremos las 10,000 palabras más usuales.\n",
        "max_features = 10000\n",
        "\n",
        "# Por cada crítica, consideraremos sólo las 20 primeras palabras dentro de las 10,000 más usuales.\n",
        "maxlen = 20\n",
        "\n",
        "# Cargamos los datos como listas de enteros.\n",
        "(x_train, y_train), (x_test, y_test) = imdb.load_data(num_words=max_features)\n",
        "\n",
        "# Convertimos nuestras listas de enteros en tensores 2D de dimensiones (número de críticas, maxlen)\n",
        "x_train = preprocessing.sequence.pad_sequences(x_train, maxlen=maxlen)\n",
        "x_test = preprocessing.sequence.pad_sequences(x_test, maxlen=maxlen)"
      ],
      "execution_count": 1,
      "outputs": [
        {
          "output_type": "stream",
          "text": [
            "Downloading data from https://storage.googleapis.com/tensorflow/tf-keras-datasets/imdb.npz\n",
            "17465344/17464789 [==============================] - 0s 0us/step\n"
          ],
          "name": "stdout"
        },
        {
          "output_type": "stream",
          "text": [
            "<string>:6: VisibleDeprecationWarning: Creating an ndarray from ragged nested sequences (which is a list-or-tuple of lists-or-tuples-or ndarrays with different lengths or shapes) is deprecated. If you meant to do this, you must specify 'dtype=object' when creating the ndarray\n",
            "/usr/local/lib/python3.6/dist-packages/tensorflow/python/keras/datasets/imdb.py:159: VisibleDeprecationWarning: Creating an ndarray from ragged nested sequences (which is a list-or-tuple of lists-or-tuples-or ndarrays with different lengths or shapes) is deprecated. If you meant to do this, you must specify 'dtype=object' when creating the ndarray\n",
            "  x_train, y_train = np.array(xs[:idx]), np.array(labels[:idx])\n",
            "/usr/local/lib/python3.6/dist-packages/tensorflow/python/keras/datasets/imdb.py:160: VisibleDeprecationWarning: Creating an ndarray from ragged nested sequences (which is a list-or-tuple of lists-or-tuples-or ndarrays with different lengths or shapes) is deprecated. If you meant to do this, you must specify 'dtype=object' when creating the ndarray\n",
            "  x_test, y_test = np.array(xs[idx:]), np.array(labels[idx:])\n"
          ],
          "name": "stderr"
        }
      ]
    },
    {
      "cell_type": "code",
      "metadata": {
        "colab": {
          "base_uri": "https://localhost:8080/"
        },
        "id": "c6wWr2gYpBAC",
        "outputId": "588b269a-ed2a-4a23-ec0e-dd6e39ec0aa2"
      },
      "source": [
        "x_train.shape"
      ],
      "execution_count": 2,
      "outputs": [
        {
          "output_type": "execute_result",
          "data": {
            "text/plain": [
              "(25000, 20)"
            ]
          },
          "metadata": {
            "tags": []
          },
          "execution_count": 2
        }
      ]
    },
    {
      "cell_type": "code",
      "metadata": {
        "id": "BJv4N6hZ80cN",
        "colab": {
          "base_uri": "https://localhost:8080/"
        },
        "outputId": "40023f57-8c74-4518-d197-b73896fa7d5f"
      },
      "source": [
        "from tensorflow.keras.models import Sequential\n",
        "from tensorflow.keras.layers import Flatten, Dense\n",
        "from tensorflow.keras.layers import Embedding\n",
        "\n",
        "model = Sequential()\n",
        "# Definimos las características de la capa Embedding.\n",
        "# El primer argumento se refiere al tamaño del vocabulario.\n",
        "# El segundo argumento está asociado con las dimensiones que tendrá cada word embedding\n",
        "# Y el tercer argumento, nos va a servir para aplanar los tensores que se vayan generando.\n",
        "model.add(Embedding(10000, 8, input_length=maxlen))\n",
        "# Luego de la capa Embedding, las dimensiones de las activaciones serán (número de críticas en el lote, maxlen, 8)\n",
        "\n",
        "# Procedemos a aplanar el tensor 3D de word embeddings a un tensor 2D con dimensiones (número de críticas en el lote, maxlen * 8)\n",
        "model.add(Flatten())\n",
        "\n",
        "# Agregamos el clasificador\n",
        "model.add(Dense(1, activation='sigmoid'))\n",
        "#Compilación\n",
        "model.compile(optimizer='rmsprop', loss='binary_crossentropy', metrics=['acc'])\n",
        "#Resumen de la arquitectura\n",
        "model.summary()\n",
        "\n",
        "#Entrenamiento\n",
        "history = model.fit(x_train, y_train,\n",
        "                    epochs=10,\n",
        "                    batch_size=32,\n",
        "                    validation_split=0.2)"
      ],
      "execution_count": 4,
      "outputs": [
        {
          "output_type": "stream",
          "text": [
            "Model: \"sequential_1\"\n",
            "_________________________________________________________________\n",
            "Layer (type)                 Output Shape              Param #   \n",
            "=================================================================\n",
            "embedding_1 (Embedding)      (None, 20, 8)             80000     \n",
            "_________________________________________________________________\n",
            "flatten_1 (Flatten)          (None, 160)               0         \n",
            "_________________________________________________________________\n",
            "dense_1 (Dense)              (None, 1)                 161       \n",
            "=================================================================\n",
            "Total params: 80,161\n",
            "Trainable params: 80,161\n",
            "Non-trainable params: 0\n",
            "_________________________________________________________________\n",
            "Epoch 1/10\n",
            "625/625 [==============================] - 2s 2ms/step - loss: 0.6837 - acc: 0.5702 - val_loss: 0.6082 - val_acc: 0.7078\n",
            "Epoch 2/10\n",
            "625/625 [==============================] - 1s 2ms/step - loss: 0.5598 - acc: 0.7422 - val_loss: 0.5205 - val_acc: 0.7346\n",
            "Epoch 3/10\n",
            "625/625 [==============================] - 1s 2ms/step - loss: 0.4661 - acc: 0.7867 - val_loss: 0.4977 - val_acc: 0.7512\n",
            "Epoch 4/10\n",
            "625/625 [==============================] - 1s 2ms/step - loss: 0.4194 - acc: 0.8100 - val_loss: 0.4917 - val_acc: 0.7584\n",
            "Epoch 5/10\n",
            "625/625 [==============================] - 1s 2ms/step - loss: 0.3978 - acc: 0.8221 - val_loss: 0.4925 - val_acc: 0.7586\n",
            "Epoch 6/10\n",
            "625/625 [==============================] - 1s 2ms/step - loss: 0.3800 - acc: 0.8298 - val_loss: 0.4956 - val_acc: 0.7550\n",
            "Epoch 7/10\n",
            "625/625 [==============================] - 1s 2ms/step - loss: 0.3603 - acc: 0.8427 - val_loss: 0.5015 - val_acc: 0.7554\n",
            "Epoch 8/10\n",
            "625/625 [==============================] - 1s 2ms/step - loss: 0.3340 - acc: 0.8608 - val_loss: 0.5081 - val_acc: 0.7568\n",
            "Epoch 9/10\n",
            "625/625 [==============================] - 1s 2ms/step - loss: 0.3159 - acc: 0.8694 - val_loss: 0.5130 - val_acc: 0.7560\n",
            "Epoch 10/10\n",
            "625/625 [==============================] - 1s 1ms/step - loss: 0.3028 - acc: 0.8752 - val_loss: 0.5199 - val_acc: 0.7582\n"
          ],
          "name": "stdout"
        }
      ]
    },
    {
      "cell_type": "markdown",
      "metadata": {
        "id": "dgzwq_rNrNAS"
      },
      "source": [
        "# **Re-entrenamos el modelo**"
      ]
    },
    {
      "cell_type": "code",
      "metadata": {
        "colab": {
          "base_uri": "https://localhost:8080/"
        },
        "id": "MLeOMdEGrRrR",
        "outputId": "51fc9a24-aedd-4d09-9917-37b8fdc5bf19"
      },
      "source": [
        "from tensorflow.keras.models import Sequential\n",
        "from tensorflow.keras.layers import Flatten, Dense\n",
        "from tensorflow.keras.layers import Embedding\n",
        "\n",
        "model = Sequential()\n",
        "# Definimos las características de la capa Embedding.\n",
        "# El primer argumento se refiere al tamaño del vocabulario.\n",
        "# El segundo argumento está asociado con las dimensiones que tendrá cada word embedding\n",
        "# Y el tercer argumento, nos va a servir para aplanar los tensores que se vayan generando.\n",
        "model.add(Embedding(10000, 8, input_length=maxlen))\n",
        "# Luego de la capa Embedding, las dimensiones de las activaciones serán (número de críticas en el lote, maxlen, 8)\n",
        "\n",
        "# Procedemos a aplanar el tensor 3D de word embeddings a un tensor 2D con dimensiones (número de críticas en el lote, maxlen * 8)\n",
        "model.add(Flatten())\n",
        "\n",
        "# Agregamos el clasificador\n",
        "model.add(Dense(1, activation='sigmoid'))\n",
        "#Compilación\n",
        "model.compile(optimizer='rmsprop', loss='binary_crossentropy', metrics=['acc'])\n",
        "#Resumen de la arquitectura\n",
        "model.summary()\n",
        "\n",
        "#Entrenamiento\n",
        "history = model.fit(x_train, y_train,\n",
        "                    epochs=5,\n",
        "                    batch_size=32)"
      ],
      "execution_count": 5,
      "outputs": [
        {
          "output_type": "stream",
          "text": [
            "Model: \"sequential_2\"\n",
            "_________________________________________________________________\n",
            "Layer (type)                 Output Shape              Param #   \n",
            "=================================================================\n",
            "embedding_2 (Embedding)      (None, 20, 8)             80000     \n",
            "_________________________________________________________________\n",
            "flatten_2 (Flatten)          (None, 160)               0         \n",
            "_________________________________________________________________\n",
            "dense_2 (Dense)              (None, 1)                 161       \n",
            "=================================================================\n",
            "Total params: 80,161\n",
            "Trainable params: 80,161\n",
            "Non-trainable params: 0\n",
            "_________________________________________________________________\n",
            "Epoch 1/5\n",
            "782/782 [==============================] - 2s 1ms/step - loss: 0.6828 - acc: 0.5719\n",
            "Epoch 2/5\n",
            "782/782 [==============================] - 1s 1ms/step - loss: 0.5404 - acc: 0.7512\n",
            "Epoch 3/5\n",
            "782/782 [==============================] - 1s 1ms/step - loss: 0.4525 - acc: 0.7904\n",
            "Epoch 4/5\n",
            "782/782 [==============================] - 1s 1ms/step - loss: 0.4150 - acc: 0.8155\n",
            "Epoch 5/5\n",
            "782/782 [==============================] - 1s 2ms/step - loss: 0.3950 - acc: 0.8225\n"
          ],
          "name": "stdout"
        }
      ]
    },
    {
      "cell_type": "code",
      "metadata": {
        "colab": {
          "base_uri": "https://localhost:8080/"
        },
        "id": "h3awfYKfrYN4",
        "outputId": "7a648506-98d9-49a2-e0af-5296f63beb84"
      },
      "source": [
        "#Evaluamos el modelo final\n",
        "loss_test, acc_test = model.evaluate(x_test, y_test)"
      ],
      "execution_count": 7,
      "outputs": [
        {
          "output_type": "stream",
          "text": [
            "782/782 [==============================] - 1s 953us/step - loss: 0.4773 - acc: 0.7673\n"
          ],
          "name": "stdout"
        }
      ]
    },
    {
      "cell_type": "code",
      "metadata": {
        "colab": {
          "base_uri": "https://localhost:8080/"
        },
        "id": "rIzkfLyCrbyQ",
        "outputId": "174d56ec-4bb7-490f-a274-61e18fac5053"
      },
      "source": [
        "print(loss_test, acc_test)"
      ],
      "execution_count": 8,
      "outputs": [
        {
          "output_type": "stream",
          "text": [
            "0.47732335329055786 0.7672799825668335\n"
          ],
          "name": "stdout"
        }
      ]
    }
  ]
}